{
 "cells": [
  {
   "cell_type": "markdown",
   "id": "ae804156",
   "metadata": {
    "papermill": {
     "duration": 0.006435,
     "end_time": "2023-06-13T21:25:47.561001",
     "exception": false,
     "start_time": "2023-06-13T21:25:47.554566",
     "status": "completed"
    },
    "tags": []
   },
   "source": [
    "**This notebook is an exercise in the [Pandas](https://www.kaggle.com/learn/pandas) course.  You can reference the tutorial at [this link](https://www.kaggle.com/residentmario/data-types-and-missing-values).**\n",
    "\n",
    "---\n"
   ]
  },
  {
   "cell_type": "markdown",
   "id": "58c4779e",
   "metadata": {
    "papermill": {
     "duration": 0.005373,
     "end_time": "2023-06-13T21:25:47.572316",
     "exception": false,
     "start_time": "2023-06-13T21:25:47.566943",
     "status": "completed"
    },
    "tags": []
   },
   "source": [
    "# Introduction\n",
    "\n",
    "Run the following cell to load your data and some utility functions."
   ]
  },
  {
   "cell_type": "code",
   "execution_count": 1,
   "id": "cb301b9d",
   "metadata": {
    "execution": {
     "iopub.execute_input": "2023-06-13T21:25:47.585944Z",
     "iopub.status.busy": "2023-06-13T21:25:47.585259Z",
     "iopub.status.idle": "2023-06-13T21:25:50.846598Z",
     "shell.execute_reply": "2023-06-13T21:25:50.845200Z"
    },
    "papermill": {
     "duration": 3.27157,
     "end_time": "2023-06-13T21:25:50.849507",
     "exception": false,
     "start_time": "2023-06-13T21:25:47.577937",
     "status": "completed"
    },
    "tags": []
   },
   "outputs": [
    {
     "name": "stdout",
     "output_type": "stream",
     "text": [
      "Setup complete.\n"
     ]
    }
   ],
   "source": [
    "import pandas as pd\n",
    "\n",
    "reviews = pd.read_csv(\"../input/wine-reviews/winemag-data-130k-v2.csv\", index_col=0)\n",
    "\n",
    "from learntools.core import binder; binder.bind(globals())\n",
    "from learntools.pandas.data_types_and_missing_data import *\n",
    "print(\"Setup complete.\")"
   ]
  },
  {
   "cell_type": "markdown",
   "id": "71e0fafc",
   "metadata": {
    "papermill": {
     "duration": 0.005512,
     "end_time": "2023-06-13T21:25:50.861002",
     "exception": false,
     "start_time": "2023-06-13T21:25:50.855490",
     "status": "completed"
    },
    "tags": []
   },
   "source": [
    "# Exercises"
   ]
  },
  {
   "cell_type": "markdown",
   "id": "8d6d853c",
   "metadata": {
    "papermill": {
     "duration": 0.005561,
     "end_time": "2023-06-13T21:25:50.873294",
     "exception": false,
     "start_time": "2023-06-13T21:25:50.867733",
     "status": "completed"
    },
    "tags": []
   },
   "source": [
    "## 1. \n",
    "What is the data type of the `points` column in the dataset?"
   ]
  },
  {
   "cell_type": "code",
   "execution_count": 2,
   "id": "894a595a",
   "metadata": {
    "execution": {
     "iopub.execute_input": "2023-06-13T21:25:50.887518Z",
     "iopub.status.busy": "2023-06-13T21:25:50.887051Z",
     "iopub.status.idle": "2023-06-13T21:25:50.899064Z",
     "shell.execute_reply": "2023-06-13T21:25:50.897810Z"
    },
    "papermill": {
     "duration": 0.022081,
     "end_time": "2023-06-13T21:25:50.901764",
     "exception": false,
     "start_time": "2023-06-13T21:25:50.879683",
     "status": "completed"
    },
    "tags": []
   },
   "outputs": [
    {
     "data": {
      "application/javascript": [
       "parent.postMessage({\"jupyterEvent\": \"custom.exercise_interaction\", \"data\": {\"outcomeType\": 1, \"valueTowardsCompletion\": 0.25, \"interactionType\": 1, \"questionType\": 1, \"questionId\": \"1_PointsDtype\", \"learnToolsVersion\": \"0.3.4\", \"failureMessage\": \"\", \"exceptionClass\": \"\", \"trace\": \"\"}}, \"*\")"
      ],
      "text/plain": [
       "<IPython.core.display.Javascript object>"
      ]
     },
     "metadata": {},
     "output_type": "display_data"
    },
    {
     "data": {
      "text/markdown": [
       "<span style=\"color:#33cc33\">Correct</span>"
      ],
      "text/plain": [
       "Correct"
      ]
     },
     "metadata": {},
     "output_type": "display_data"
    }
   ],
   "source": [
    "# Your code here\n",
    "dtype = reviews.points.dtype\n",
    "\n",
    "# Check your answer\n",
    "q1.check()"
   ]
  },
  {
   "cell_type": "code",
   "execution_count": 3,
   "id": "d32affa3",
   "metadata": {
    "execution": {
     "iopub.execute_input": "2023-06-13T21:25:50.917487Z",
     "iopub.status.busy": "2023-06-13T21:25:50.917066Z",
     "iopub.status.idle": "2023-06-13T21:25:50.922200Z",
     "shell.execute_reply": "2023-06-13T21:25:50.920854Z"
    },
    "papermill": {
     "duration": 0.015303,
     "end_time": "2023-06-13T21:25:50.924807",
     "exception": false,
     "start_time": "2023-06-13T21:25:50.909504",
     "status": "completed"
    },
    "tags": []
   },
   "outputs": [],
   "source": [
    "#q1.hint()\n",
    "#q1.solution()"
   ]
  },
  {
   "cell_type": "markdown",
   "id": "539d7416",
   "metadata": {
    "papermill": {
     "duration": 0.005833,
     "end_time": "2023-06-13T21:25:50.936785",
     "exception": false,
     "start_time": "2023-06-13T21:25:50.930952",
     "status": "completed"
    },
    "tags": []
   },
   "source": [
    "## 2. \n",
    "Create a Series from entries in the `points` column, but convert the entries to strings. Hint: strings are `str` in native Python."
   ]
  },
  {
   "cell_type": "code",
   "execution_count": 4,
   "id": "8645caae",
   "metadata": {
    "execution": {
     "iopub.execute_input": "2023-06-13T21:25:50.950841Z",
     "iopub.status.busy": "2023-06-13T21:25:50.950445Z",
     "iopub.status.idle": "2023-06-13T21:25:51.053543Z",
     "shell.execute_reply": "2023-06-13T21:25:51.052624Z"
    },
    "papermill": {
     "duration": 0.11271,
     "end_time": "2023-06-13T21:25:51.055673",
     "exception": false,
     "start_time": "2023-06-13T21:25:50.942963",
     "status": "completed"
    },
    "tags": []
   },
   "outputs": [
    {
     "data": {
      "application/javascript": [
       "parent.postMessage({\"jupyterEvent\": \"custom.exercise_interaction\", \"data\": {\"outcomeType\": 1, \"valueTowardsCompletion\": 0.25, \"interactionType\": 1, \"questionType\": 1, \"questionId\": \"2_StrPoints\", \"learnToolsVersion\": \"0.3.4\", \"failureMessage\": \"\", \"exceptionClass\": \"\", \"trace\": \"\"}}, \"*\")"
      ],
      "text/plain": [
       "<IPython.core.display.Javascript object>"
      ]
     },
     "metadata": {},
     "output_type": "display_data"
    },
    {
     "data": {
      "text/markdown": [
       "<span style=\"color:#33cc33\">Correct</span>"
      ],
      "text/plain": [
       "Correct"
      ]
     },
     "metadata": {},
     "output_type": "display_data"
    }
   ],
   "source": [
    "point_strings = reviews.points.astype(str)\n",
    "\n",
    "# Check your answer\n",
    "q2.check()"
   ]
  },
  {
   "cell_type": "code",
   "execution_count": 5,
   "id": "ae6a4119",
   "metadata": {
    "execution": {
     "iopub.execute_input": "2023-06-13T21:25:51.070805Z",
     "iopub.status.busy": "2023-06-13T21:25:51.070401Z",
     "iopub.status.idle": "2023-06-13T21:25:51.074931Z",
     "shell.execute_reply": "2023-06-13T21:25:51.073827Z"
    },
    "papermill": {
     "duration": 0.014773,
     "end_time": "2023-06-13T21:25:51.077330",
     "exception": false,
     "start_time": "2023-06-13T21:25:51.062557",
     "status": "completed"
    },
    "tags": []
   },
   "outputs": [],
   "source": [
    "#q2.hint()\n",
    "#q2.solution()"
   ]
  },
  {
   "cell_type": "markdown",
   "id": "bb6665b6",
   "metadata": {
    "papermill": {
     "duration": 0.006113,
     "end_time": "2023-06-13T21:25:51.090195",
     "exception": false,
     "start_time": "2023-06-13T21:25:51.084082",
     "status": "completed"
    },
    "tags": []
   },
   "source": [
    "## 3.\n",
    "Sometimes the price column is null. How many reviews in the dataset are missing a price?"
   ]
  },
  {
   "cell_type": "code",
   "execution_count": 6,
   "id": "defa22ee",
   "metadata": {
    "execution": {
     "iopub.execute_input": "2023-06-13T21:25:51.104502Z",
     "iopub.status.busy": "2023-06-13T21:25:51.104094Z",
     "iopub.status.idle": "2023-06-13T21:25:51.122116Z",
     "shell.execute_reply": "2023-06-13T21:25:51.121020Z"
    },
    "papermill": {
     "duration": 0.028139,
     "end_time": "2023-06-13T21:25:51.124637",
     "exception": false,
     "start_time": "2023-06-13T21:25:51.096498",
     "status": "completed"
    },
    "tags": []
   },
   "outputs": [
    {
     "data": {
      "application/javascript": [
       "parent.postMessage({\"jupyterEvent\": \"custom.exercise_interaction\", \"data\": {\"outcomeType\": 1, \"valueTowardsCompletion\": 0.25, \"interactionType\": 1, \"questionType\": 1, \"questionId\": \"3_CountMissingPrices\", \"learnToolsVersion\": \"0.3.4\", \"failureMessage\": \"\", \"exceptionClass\": \"\", \"trace\": \"\"}}, \"*\")"
      ],
      "text/plain": [
       "<IPython.core.display.Javascript object>"
      ]
     },
     "metadata": {},
     "output_type": "display_data"
    },
    {
     "data": {
      "text/markdown": [
       "<span style=\"color:#33cc33\">Correct</span>"
      ],
      "text/plain": [
       "Correct"
      ]
     },
     "metadata": {},
     "output_type": "display_data"
    }
   ],
   "source": [
    "missing_price_reviews = reviews[reviews.price.isnull()]\n",
    "n_missing_prices = len(missing_price_reviews)\n",
    "n_missing_prices = reviews.price.isnull().sum()\n",
    "\n",
    "# Check your answer\n",
    "q3.check()"
   ]
  },
  {
   "cell_type": "code",
   "execution_count": 7,
   "id": "395c0415",
   "metadata": {
    "execution": {
     "iopub.execute_input": "2023-06-13T21:25:51.139928Z",
     "iopub.status.busy": "2023-06-13T21:25:51.139540Z",
     "iopub.status.idle": "2023-06-13T21:25:51.144469Z",
     "shell.execute_reply": "2023-06-13T21:25:51.143212Z"
    },
    "papermill": {
     "duration": 0.015496,
     "end_time": "2023-06-13T21:25:51.147016",
     "exception": false,
     "start_time": "2023-06-13T21:25:51.131520",
     "status": "completed"
    },
    "tags": []
   },
   "outputs": [],
   "source": [
    "#q3.hint()\n",
    "#q3.solution()"
   ]
  },
  {
   "cell_type": "markdown",
   "id": "d70af899",
   "metadata": {
    "papermill": {
     "duration": 0.006518,
     "end_time": "2023-06-13T21:25:51.160662",
     "exception": false,
     "start_time": "2023-06-13T21:25:51.154144",
     "status": "completed"
    },
    "tags": []
   },
   "source": [
    "## 4.\n",
    "What are the most common wine-producing regions? Create a Series counting the number of times each value occurs in the `region_1` field. This field is often missing data, so replace missing values with `Unknown`. Sort in descending order.  Your output should look something like this:\n",
    "\n",
    "```\n",
    "Unknown                    21247\n",
    "Napa Valley                 4480\n",
    "                           ...  \n",
    "Bardolino Superiore            1\n",
    "Primitivo del Tarantino        1\n",
    "Name: region_1, Length: 1230, dtype: int64\n",
    "```"
   ]
  },
  {
   "cell_type": "code",
   "execution_count": 8,
   "id": "052eb0c1",
   "metadata": {
    "execution": {
     "iopub.execute_input": "2023-06-13T21:25:51.176162Z",
     "iopub.status.busy": "2023-06-13T21:25:51.175795Z",
     "iopub.status.idle": "2023-06-13T21:25:51.258109Z",
     "shell.execute_reply": "2023-06-13T21:25:51.256947Z"
    },
    "papermill": {
     "duration": 0.093329,
     "end_time": "2023-06-13T21:25:51.260729",
     "exception": false,
     "start_time": "2023-06-13T21:25:51.167400",
     "status": "completed"
    },
    "tags": []
   },
   "outputs": [
    {
     "data": {
      "application/javascript": [
       "parent.postMessage({\"jupyterEvent\": \"custom.exercise_interaction\", \"data\": {\"outcomeType\": 1, \"valueTowardsCompletion\": 0.25, \"interactionType\": 1, \"questionType\": 2, \"questionId\": \"4_ReviewsPerRegion\", \"learnToolsVersion\": \"0.3.4\", \"failureMessage\": \"\", \"exceptionClass\": \"\", \"trace\": \"\"}}, \"*\")"
      ],
      "text/plain": [
       "<IPython.core.display.Javascript object>"
      ]
     },
     "metadata": {},
     "output_type": "display_data"
    },
    {
     "data": {
      "text/markdown": [
       "<span style=\"color:#33cc33\">Correct</span>"
      ],
      "text/plain": [
       "Correct"
      ]
     },
     "metadata": {},
     "output_type": "display_data"
    }
   ],
   "source": [
    "reviews_per_region = reviews.region_1.fillna('Unknown').value_counts().sort_values(ascending=False)\n",
    "\n",
    "# Check your answer\n",
    "q4.check()"
   ]
  },
  {
   "cell_type": "code",
   "execution_count": 9,
   "id": "d66c8f1b",
   "metadata": {
    "execution": {
     "iopub.execute_input": "2023-06-13T21:25:51.276800Z",
     "iopub.status.busy": "2023-06-13T21:25:51.276385Z",
     "iopub.status.idle": "2023-06-13T21:25:51.280892Z",
     "shell.execute_reply": "2023-06-13T21:25:51.279816Z"
    },
    "papermill": {
     "duration": 0.015323,
     "end_time": "2023-06-13T21:25:51.283245",
     "exception": false,
     "start_time": "2023-06-13T21:25:51.267922",
     "status": "completed"
    },
    "tags": []
   },
   "outputs": [],
   "source": [
    "#q4.hint()\n",
    "#q4.solution()"
   ]
  },
  {
   "cell_type": "markdown",
   "id": "d974c634",
   "metadata": {
    "papermill": {
     "duration": 0.006737,
     "end_time": "2023-06-13T21:25:51.297041",
     "exception": false,
     "start_time": "2023-06-13T21:25:51.290304",
     "status": "completed"
    },
    "tags": []
   },
   "source": [
    "# Keep going\n",
    "\n",
    "Move on to **[renaming and combining](https://www.kaggle.com/residentmario/renaming-and-combining)**."
   ]
  },
  {
   "cell_type": "markdown",
   "id": "82b6811b",
   "metadata": {
    "papermill": {
     "duration": 0.006961,
     "end_time": "2023-06-13T21:25:51.311078",
     "exception": false,
     "start_time": "2023-06-13T21:25:51.304117",
     "status": "completed"
    },
    "tags": []
   },
   "source": [
    "---\n",
    "\n",
    "\n",
    "\n",
    "\n",
    "*Have questions or comments? Visit the [course discussion forum](https://www.kaggle.com/learn/pandas/discussion) to chat with other learners.*"
   ]
  }
 ],
 "metadata": {
  "kernelspec": {
   "display_name": "Python 3",
   "language": "python",
   "name": "python3"
  },
  "language_info": {
   "codemirror_mode": {
    "name": "ipython",
    "version": 3
   },
   "file_extension": ".py",
   "mimetype": "text/x-python",
   "name": "python",
   "nbconvert_exporter": "python",
   "pygments_lexer": "ipython3",
   "version": "3.10.10"
  },
  "papermill": {
   "default_parameters": {},
   "duration": 17.516043,
   "end_time": "2023-06-13T21:25:52.241078",
   "environment_variables": {},
   "exception": null,
   "input_path": "__notebook__.ipynb",
   "output_path": "__notebook__.ipynb",
   "parameters": {},
   "start_time": "2023-06-13T21:25:34.725035",
   "version": "2.4.0"
  }
 },
 "nbformat": 4,
 "nbformat_minor": 5
}
