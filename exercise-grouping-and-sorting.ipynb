{
 "cells": [
  {
   "cell_type": "markdown",
   "id": "898b1c3b",
   "metadata": {
    "papermill": {
     "duration": 0.005436,
     "end_time": "2023-06-13T21:23:05.783300",
     "exception": false,
     "start_time": "2023-06-13T21:23:05.777864",
     "status": "completed"
    },
    "tags": []
   },
   "source": [
    "**This notebook is an exercise in the [Pandas](https://www.kaggle.com/learn/pandas) course.  You can reference the tutorial at [this link](https://www.kaggle.com/residentmario/grouping-and-sorting).**\n",
    "\n",
    "---\n"
   ]
  },
  {
   "cell_type": "markdown",
   "id": "e8205618",
   "metadata": {
    "papermill": {
     "duration": 0.004498,
     "end_time": "2023-06-13T21:23:05.792555",
     "exception": false,
     "start_time": "2023-06-13T21:23:05.788057",
     "status": "completed"
    },
    "tags": []
   },
   "source": [
    "# Introduction\n",
    "\n",
    "In these exercises we'll apply groupwise analysis to our dataset.\n",
    "\n",
    "Run the code cell below to load the data before running the exercises."
   ]
  },
  {
   "cell_type": "code",
   "execution_count": 1,
   "id": "5363c407",
   "metadata": {
    "execution": {
     "iopub.execute_input": "2023-06-13T21:23:05.805847Z",
     "iopub.status.busy": "2023-06-13T21:23:05.805045Z",
     "iopub.status.idle": "2023-06-13T21:23:08.309356Z",
     "shell.execute_reply": "2023-06-13T21:23:08.308035Z"
    },
    "papermill": {
     "duration": 2.514417,
     "end_time": "2023-06-13T21:23:08.312136",
     "exception": false,
     "start_time": "2023-06-13T21:23:05.797719",
     "status": "completed"
    },
    "tags": []
   },
   "outputs": [
    {
     "name": "stdout",
     "output_type": "stream",
     "text": [
      "Setup complete.\n"
     ]
    }
   ],
   "source": [
    "import pandas as pd\n",
    "\n",
    "reviews = pd.read_csv(\"../input/wine-reviews/winemag-data-130k-v2.csv\", index_col=0)\n",
    "#pd.set_option(\"display.max_rows\", 5)\n",
    "\n",
    "from learntools.core import binder; binder.bind(globals())\n",
    "from learntools.pandas.grouping_and_sorting import *\n",
    "print(\"Setup complete.\")"
   ]
  },
  {
   "cell_type": "markdown",
   "id": "fa099e28",
   "metadata": {
    "papermill": {
     "duration": 0.004814,
     "end_time": "2023-06-13T21:23:08.322322",
     "exception": false,
     "start_time": "2023-06-13T21:23:08.317508",
     "status": "completed"
    },
    "tags": []
   },
   "source": [
    "# Exercises"
   ]
  },
  {
   "cell_type": "markdown",
   "id": "bced1ecc",
   "metadata": {
    "papermill": {
     "duration": 0.006147,
     "end_time": "2023-06-13T21:23:08.333414",
     "exception": false,
     "start_time": "2023-06-13T21:23:08.327267",
     "status": "completed"
    },
    "tags": []
   },
   "source": [
    "## 1.\n",
    "Who are the most common wine reviewers in the dataset? Create a `Series` whose index is the `taster_twitter_handle` category from the dataset, and whose values count how many reviews each person wrote."
   ]
  },
  {
   "cell_type": "code",
   "execution_count": 2,
   "id": "854ed078",
   "metadata": {
    "execution": {
     "iopub.execute_input": "2023-06-13T21:23:08.344898Z",
     "iopub.status.busy": "2023-06-13T21:23:08.344520Z",
     "iopub.status.idle": "2023-06-13T21:23:08.366597Z",
     "shell.execute_reply": "2023-06-13T21:23:08.365216Z"
    },
    "papermill": {
     "duration": 0.030948,
     "end_time": "2023-06-13T21:23:08.369289",
     "exception": false,
     "start_time": "2023-06-13T21:23:08.338341",
     "status": "completed"
    },
    "tags": []
   },
   "outputs": [
    {
     "data": {
      "application/javascript": [
       "parent.postMessage({\"jupyterEvent\": \"custom.exercise_interaction\", \"data\": {\"outcomeType\": 1, \"valueTowardsCompletion\": 0.16666666666666666, \"interactionType\": 1, \"questionType\": 1, \"questionId\": \"1_ReviewsWritten\", \"learnToolsVersion\": \"0.3.4\", \"failureMessage\": \"\", \"exceptionClass\": \"\", \"trace\": \"\"}}, \"*\")"
      ],
      "text/plain": [
       "<IPython.core.display.Javascript object>"
      ]
     },
     "metadata": {},
     "output_type": "display_data"
    },
    {
     "data": {
      "text/markdown": [
       "<span style=\"color:#33cc33\">Correct:</span> \n",
       "\n",
       "\n",
       "```python\n",
       "reviews_written = reviews.groupby('taster_twitter_handle').size()\n",
       "```\n",
       "or\n",
       "```python\n",
       "reviews_written = reviews.groupby('taster_twitter_handle').taster_twitter_handle.count()\n",
       "```\n"
      ],
      "text/plain": [
       "Correct: \n",
       "\n",
       "\n",
       "```python\n",
       "reviews_written = reviews.groupby('taster_twitter_handle').size()\n",
       "```\n",
       "or\n",
       "```python\n",
       "reviews_written = reviews.groupby('taster_twitter_handle').taster_twitter_handle.count()\n",
       "```"
      ]
     },
     "metadata": {},
     "output_type": "display_data"
    }
   ],
   "source": [
    "# Your code here\n",
    "reviews_written = reviews.groupby('taster_twitter_handle').size()\n",
    "# Check your answer\n",
    "q1.check()"
   ]
  },
  {
   "cell_type": "code",
   "execution_count": 3,
   "id": "a8088a4e",
   "metadata": {
    "execution": {
     "iopub.execute_input": "2023-06-13T21:23:08.381861Z",
     "iopub.status.busy": "2023-06-13T21:23:08.381521Z",
     "iopub.status.idle": "2023-06-13T21:23:08.386562Z",
     "shell.execute_reply": "2023-06-13T21:23:08.385107Z"
    },
    "papermill": {
     "duration": 0.013372,
     "end_time": "2023-06-13T21:23:08.388288",
     "exception": false,
     "start_time": "2023-06-13T21:23:08.374916",
     "status": "completed"
    },
    "tags": []
   },
   "outputs": [],
   "source": [
    "#q1.hint()\n",
    "#q1.solution()"
   ]
  },
  {
   "cell_type": "markdown",
   "id": "c3fa3c97",
   "metadata": {
    "papermill": {
     "duration": 0.006407,
     "end_time": "2023-06-13T21:23:08.400208",
     "exception": false,
     "start_time": "2023-06-13T21:23:08.393801",
     "status": "completed"
    },
    "tags": []
   },
   "source": [
    "## 2.\n",
    "What is the best wine I can buy for a given amount of money? Create a `Series` whose index is wine prices and whose values is the maximum number of points a wine costing that much was given in a review. Sort the values by price, ascending (so that `4.0` dollars is at the top and `3300.0` dollars is at the bottom)."
   ]
  },
  {
   "cell_type": "code",
   "execution_count": 4,
   "id": "d90e948f",
   "metadata": {
    "execution": {
     "iopub.execute_input": "2023-06-13T21:23:08.412383Z",
     "iopub.status.busy": "2023-06-13T21:23:08.412010Z",
     "iopub.status.idle": "2023-06-13T21:23:08.424395Z",
     "shell.execute_reply": "2023-06-13T21:23:08.423111Z"
    },
    "papermill": {
     "duration": 0.020915,
     "end_time": "2023-06-13T21:23:08.426194",
     "exception": false,
     "start_time": "2023-06-13T21:23:08.405279",
     "status": "completed"
    },
    "tags": []
   },
   "outputs": [
    {
     "data": {
      "application/javascript": [
       "parent.postMessage({\"jupyterEvent\": \"custom.exercise_interaction\", \"data\": {\"outcomeType\": 1, \"valueTowardsCompletion\": 0.16666666666666666, \"interactionType\": 1, \"questionType\": 1, \"questionId\": \"2_BestRatingPerPrice\", \"learnToolsVersion\": \"0.3.4\", \"failureMessage\": \"\", \"exceptionClass\": \"\", \"trace\": \"\"}}, \"*\")"
      ],
      "text/plain": [
       "<IPython.core.display.Javascript object>"
      ]
     },
     "metadata": {},
     "output_type": "display_data"
    },
    {
     "data": {
      "text/markdown": [
       "<span style=\"color:#33cc33\">Correct</span>"
      ],
      "text/plain": [
       "Correct"
      ]
     },
     "metadata": {},
     "output_type": "display_data"
    }
   ],
   "source": [
    "best_rating_per_price = reviews.groupby('price')['points'].max().sort_index()\n",
    "\n",
    "# Check your answer\n",
    "q2.check()"
   ]
  },
  {
   "cell_type": "code",
   "execution_count": 5,
   "id": "10793631",
   "metadata": {
    "execution": {
     "iopub.execute_input": "2023-06-13T21:23:08.439224Z",
     "iopub.status.busy": "2023-06-13T21:23:08.438784Z",
     "iopub.status.idle": "2023-06-13T21:23:08.444459Z",
     "shell.execute_reply": "2023-06-13T21:23:08.442891Z"
    },
    "papermill": {
     "duration": 0.014467,
     "end_time": "2023-06-13T21:23:08.446330",
     "exception": false,
     "start_time": "2023-06-13T21:23:08.431863",
     "status": "completed"
    },
    "tags": []
   },
   "outputs": [],
   "source": [
    "#q2.hint()\n",
    "#q2.solution()"
   ]
  },
  {
   "cell_type": "markdown",
   "id": "ce689838",
   "metadata": {
    "papermill": {
     "duration": 0.005341,
     "end_time": "2023-06-13T21:23:08.457826",
     "exception": false,
     "start_time": "2023-06-13T21:23:08.452485",
     "status": "completed"
    },
    "tags": []
   },
   "source": [
    "## 3.\n",
    "What are the minimum and maximum prices for each `variety` of wine? Create a `DataFrame` whose index is the `variety` category from the dataset and whose values are the `min` and `max` values thereof."
   ]
  },
  {
   "cell_type": "code",
   "execution_count": 6,
   "id": "cbe9dda3",
   "metadata": {
    "execution": {
     "iopub.execute_input": "2023-06-13T21:23:08.471168Z",
     "iopub.status.busy": "2023-06-13T21:23:08.470767Z",
     "iopub.status.idle": "2023-06-13T21:23:08.494167Z",
     "shell.execute_reply": "2023-06-13T21:23:08.492940Z"
    },
    "papermill": {
     "duration": 0.03254,
     "end_time": "2023-06-13T21:23:08.496015",
     "exception": false,
     "start_time": "2023-06-13T21:23:08.463475",
     "status": "completed"
    },
    "tags": []
   },
   "outputs": [
    {
     "data": {
      "application/javascript": [
       "parent.postMessage({\"jupyterEvent\": \"custom.exercise_interaction\", \"data\": {\"outcomeType\": 1, \"valueTowardsCompletion\": 0.16666666666666666, \"interactionType\": 1, \"questionType\": 1, \"questionId\": \"3_PriceExtremes\", \"learnToolsVersion\": \"0.3.4\", \"failureMessage\": \"\", \"exceptionClass\": \"\", \"trace\": \"\"}}, \"*\")"
      ],
      "text/plain": [
       "<IPython.core.display.Javascript object>"
      ]
     },
     "metadata": {},
     "output_type": "display_data"
    },
    {
     "data": {
      "text/markdown": [
       "<span style=\"color:#33cc33\">Correct</span>"
      ],
      "text/plain": [
       "Correct"
      ]
     },
     "metadata": {},
     "output_type": "display_data"
    }
   ],
   "source": [
    "price_extremes = reviews.groupby('variety').price.agg([min, max])\n",
    "\n",
    "# Check your answer\n",
    "q3.check()"
   ]
  },
  {
   "cell_type": "code",
   "execution_count": 7,
   "id": "3a467e77",
   "metadata": {
    "execution": {
     "iopub.execute_input": "2023-06-13T21:23:08.509262Z",
     "iopub.status.busy": "2023-06-13T21:23:08.508882Z",
     "iopub.status.idle": "2023-06-13T21:23:08.514044Z",
     "shell.execute_reply": "2023-06-13T21:23:08.512709Z"
    },
    "papermill": {
     "duration": 0.014865,
     "end_time": "2023-06-13T21:23:08.516790",
     "exception": false,
     "start_time": "2023-06-13T21:23:08.501925",
     "status": "completed"
    },
    "tags": []
   },
   "outputs": [],
   "source": [
    "#q3.hint()\n",
    "#q3.solution()"
   ]
  },
  {
   "cell_type": "markdown",
   "id": "8ba34dc7",
   "metadata": {
    "papermill": {
     "duration": 0.005527,
     "end_time": "2023-06-13T21:23:08.528290",
     "exception": false,
     "start_time": "2023-06-13T21:23:08.522763",
     "status": "completed"
    },
    "tags": []
   },
   "source": [
    "## 4.\n",
    "What are the most expensive wine varieties? Create a variable `sorted_varieties` containing a copy of the dataframe from the previous question where varieties are sorted in descending order based on minimum price, then on maximum price (to break ties)."
   ]
  },
  {
   "cell_type": "code",
   "execution_count": 8,
   "id": "cb0c16b6",
   "metadata": {
    "execution": {
     "iopub.execute_input": "2023-06-13T21:23:08.540978Z",
     "iopub.status.busy": "2023-06-13T21:23:08.540666Z",
     "iopub.status.idle": "2023-06-13T21:23:08.554998Z",
     "shell.execute_reply": "2023-06-13T21:23:08.553462Z"
    },
    "papermill": {
     "duration": 0.023442,
     "end_time": "2023-06-13T21:23:08.557516",
     "exception": false,
     "start_time": "2023-06-13T21:23:08.534074",
     "status": "completed"
    },
    "tags": []
   },
   "outputs": [
    {
     "data": {
      "application/javascript": [
       "parent.postMessage({\"jupyterEvent\": \"custom.exercise_interaction\", \"data\": {\"outcomeType\": 1, \"valueTowardsCompletion\": 0.16666666666666666, \"interactionType\": 1, \"questionType\": 1, \"questionId\": \"4_SortedVarieties\", \"learnToolsVersion\": \"0.3.4\", \"failureMessage\": \"\", \"exceptionClass\": \"\", \"trace\": \"\"}}, \"*\")"
      ],
      "text/plain": [
       "<IPython.core.display.Javascript object>"
      ]
     },
     "metadata": {},
     "output_type": "display_data"
    },
    {
     "data": {
      "text/markdown": [
       "<span style=\"color:#33cc33\">Correct</span>"
      ],
      "text/plain": [
       "Correct"
      ]
     },
     "metadata": {},
     "output_type": "display_data"
    }
   ],
   "source": [
    "sorted_varieties = price_extremes.sort_values(by=['min', 'max'], ascending=False)\n",
    "\n",
    "# Check your answer\n",
    "q4.check()"
   ]
  },
  {
   "cell_type": "code",
   "execution_count": 9,
   "id": "e37449c8",
   "metadata": {
    "execution": {
     "iopub.execute_input": "2023-06-13T21:23:08.571482Z",
     "iopub.status.busy": "2023-06-13T21:23:08.571074Z",
     "iopub.status.idle": "2023-06-13T21:23:08.576025Z",
     "shell.execute_reply": "2023-06-13T21:23:08.574504Z"
    },
    "papermill": {
     "duration": 0.014252,
     "end_time": "2023-06-13T21:23:08.577993",
     "exception": false,
     "start_time": "2023-06-13T21:23:08.563741",
     "status": "completed"
    },
    "tags": []
   },
   "outputs": [],
   "source": [
    "#q4.hint()\n",
    "#q4.solution()"
   ]
  },
  {
   "cell_type": "markdown",
   "id": "321c62e3",
   "metadata": {
    "papermill": {
     "duration": 0.005749,
     "end_time": "2023-06-13T21:23:08.589955",
     "exception": false,
     "start_time": "2023-06-13T21:23:08.584206",
     "status": "completed"
    },
    "tags": []
   },
   "source": [
    "## 5.\n",
    "Create a `Series` whose index is reviewers and whose values is the average review score given out by that reviewer. Hint: you will need the `taster_name` and `points` columns."
   ]
  },
  {
   "cell_type": "code",
   "execution_count": 10,
   "id": "a36a9fc9",
   "metadata": {
    "execution": {
     "iopub.execute_input": "2023-06-13T21:23:08.603503Z",
     "iopub.status.busy": "2023-06-13T21:23:08.603169Z",
     "iopub.status.idle": "2023-06-13T21:23:08.621024Z",
     "shell.execute_reply": "2023-06-13T21:23:08.620213Z"
    },
    "papermill": {
     "duration": 0.027247,
     "end_time": "2023-06-13T21:23:08.623283",
     "exception": false,
     "start_time": "2023-06-13T21:23:08.596036",
     "status": "completed"
    },
    "tags": []
   },
   "outputs": [
    {
     "data": {
      "application/javascript": [
       "parent.postMessage({\"jupyterEvent\": \"custom.exercise_interaction\", \"data\": {\"outcomeType\": 1, \"valueTowardsCompletion\": 0.16666666666666666, \"interactionType\": 1, \"questionType\": 1, \"questionId\": \"5_ReviewerMeanRatings\", \"learnToolsVersion\": \"0.3.4\", \"failureMessage\": \"\", \"exceptionClass\": \"\", \"trace\": \"\"}}, \"*\")"
      ],
      "text/plain": [
       "<IPython.core.display.Javascript object>"
      ]
     },
     "metadata": {},
     "output_type": "display_data"
    },
    {
     "data": {
      "text/markdown": [
       "<span style=\"color:#33cc33\">Correct</span>"
      ],
      "text/plain": [
       "Correct"
      ]
     },
     "metadata": {},
     "output_type": "display_data"
    }
   ],
   "source": [
    "reviewer_mean_ratings = reviews.groupby('taster_name').points.mean()\n",
    "\n",
    "# Check your answer\n",
    "q5.check()"
   ]
  },
  {
   "cell_type": "code",
   "execution_count": 11,
   "id": "da75c50b",
   "metadata": {
    "execution": {
     "iopub.execute_input": "2023-06-13T21:23:08.636800Z",
     "iopub.status.busy": "2023-06-13T21:23:08.636442Z",
     "iopub.status.idle": "2023-06-13T21:23:08.640477Z",
     "shell.execute_reply": "2023-06-13T21:23:08.639627Z"
    },
    "papermill": {
     "duration": 0.012876,
     "end_time": "2023-06-13T21:23:08.642317",
     "exception": false,
     "start_time": "2023-06-13T21:23:08.629441",
     "status": "completed"
    },
    "tags": []
   },
   "outputs": [],
   "source": [
    "#q5.hint()\n",
    "#q5.solution()"
   ]
  },
  {
   "cell_type": "markdown",
   "id": "d8be172f",
   "metadata": {
    "papermill": {
     "duration": 0.006247,
     "end_time": "2023-06-13T21:23:08.655062",
     "exception": false,
     "start_time": "2023-06-13T21:23:08.648815",
     "status": "completed"
    },
    "tags": []
   },
   "source": [
    "Are there significant differences in the average scores assigned by the various reviewers? Run the cell below to use the `describe()` method to see a summary of the range of values."
   ]
  },
  {
   "cell_type": "code",
   "execution_count": 12,
   "id": "d8082a09",
   "metadata": {
    "execution": {
     "iopub.execute_input": "2023-06-13T21:23:08.669236Z",
     "iopub.status.busy": "2023-06-13T21:23:08.668853Z",
     "iopub.status.idle": "2023-06-13T21:23:08.682016Z",
     "shell.execute_reply": "2023-06-13T21:23:08.680718Z"
    },
    "papermill": {
     "duration": 0.023714,
     "end_time": "2023-06-13T21:23:08.684972",
     "exception": false,
     "start_time": "2023-06-13T21:23:08.661258",
     "status": "completed"
    },
    "tags": []
   },
   "outputs": [
    {
     "data": {
      "text/plain": [
       "count    19.000000\n",
       "mean     88.233026\n",
       "std       1.243610\n",
       "min      85.855422\n",
       "25%      87.323501\n",
       "50%      88.536235\n",
       "75%      88.975256\n",
       "max      90.562551\n",
       "Name: points, dtype: float64"
      ]
     },
     "execution_count": 12,
     "metadata": {},
     "output_type": "execute_result"
    }
   ],
   "source": [
    "reviewer_mean_ratings.describe()"
   ]
  },
  {
   "cell_type": "markdown",
   "id": "3385e7c9",
   "metadata": {
    "papermill": {
     "duration": 0.006123,
     "end_time": "2023-06-13T21:23:08.697652",
     "exception": false,
     "start_time": "2023-06-13T21:23:08.691529",
     "status": "completed"
    },
    "tags": []
   },
   "source": [
    "## 6.\n",
    "What combination of countries and varieties are most common? Create a `Series` whose index is a `MultiIndex`of `{country, variety}` pairs. For example, a pinot noir produced in the US should map to `{\"US\", \"Pinot Noir\"}`. Sort the values in the `Series` in descending order based on wine count."
   ]
  },
  {
   "cell_type": "code",
   "execution_count": 13,
   "id": "f63b07b7",
   "metadata": {
    "execution": {
     "iopub.execute_input": "2023-06-13T21:23:08.712432Z",
     "iopub.status.busy": "2023-06-13T21:23:08.712044Z",
     "iopub.status.idle": "2023-06-13T21:23:08.743347Z",
     "shell.execute_reply": "2023-06-13T21:23:08.741928Z"
    },
    "papermill": {
     "duration": 0.041688,
     "end_time": "2023-06-13T21:23:08.745742",
     "exception": false,
     "start_time": "2023-06-13T21:23:08.704054",
     "status": "completed"
    },
    "tags": []
   },
   "outputs": [
    {
     "data": {
      "application/javascript": [
       "parent.postMessage({\"jupyterEvent\": \"custom.exercise_interaction\", \"data\": {\"outcomeType\": 1, \"valueTowardsCompletion\": 0.16666666666666666, \"interactionType\": 1, \"questionType\": 1, \"questionId\": \"6_GroupbyCountryVariety\", \"learnToolsVersion\": \"0.3.4\", \"failureMessage\": \"\", \"exceptionClass\": \"\", \"trace\": \"\"}}, \"*\")"
      ],
      "text/plain": [
       "<IPython.core.display.Javascript object>"
      ]
     },
     "metadata": {},
     "output_type": "display_data"
    },
    {
     "data": {
      "text/markdown": [
       "<span style=\"color:#33cc33\">Correct</span>"
      ],
      "text/plain": [
       "Correct"
      ]
     },
     "metadata": {},
     "output_type": "display_data"
    }
   ],
   "source": [
    "country_variety_counts = reviews.groupby(['country', 'variety']).size().sort_values(ascending=False)\n",
    "\n",
    "# Check your answer\n",
    "q6.check()"
   ]
  },
  {
   "cell_type": "code",
   "execution_count": 14,
   "id": "fc6a63e2",
   "metadata": {
    "execution": {
     "iopub.execute_input": "2023-06-13T21:23:08.761413Z",
     "iopub.status.busy": "2023-06-13T21:23:08.761080Z",
     "iopub.status.idle": "2023-06-13T21:23:08.764663Z",
     "shell.execute_reply": "2023-06-13T21:23:08.763904Z"
    },
    "papermill": {
     "duration": 0.013142,
     "end_time": "2023-06-13T21:23:08.766351",
     "exception": false,
     "start_time": "2023-06-13T21:23:08.753209",
     "status": "completed"
    },
    "tags": []
   },
   "outputs": [],
   "source": [
    "#q6.hint()\n",
    "#q6.solution()"
   ]
  },
  {
   "cell_type": "markdown",
   "id": "32248cec",
   "metadata": {
    "papermill": {
     "duration": 0.00591,
     "end_time": "2023-06-13T21:23:08.778855",
     "exception": false,
     "start_time": "2023-06-13T21:23:08.772945",
     "status": "completed"
    },
    "tags": []
   },
   "source": [
    "# Keep going\n",
    "\n",
    "Move on to the [**data types and missing data**](https://www.kaggle.com/residentmario/data-types-and-missing-values)."
   ]
  },
  {
   "cell_type": "markdown",
   "id": "dd456d29",
   "metadata": {
    "papermill": {
     "duration": 0.005879,
     "end_time": "2023-06-13T21:23:08.791001",
     "exception": false,
     "start_time": "2023-06-13T21:23:08.785122",
     "status": "completed"
    },
    "tags": []
   },
   "source": [
    "---\n",
    "\n",
    "\n",
    "\n",
    "\n",
    "*Have questions or comments? Visit the [course discussion forum](https://www.kaggle.com/learn/pandas/discussion) to chat with other learners.*"
   ]
  }
 ],
 "metadata": {
  "kernelspec": {
   "display_name": "Python 3",
   "language": "python",
   "name": "python3"
  },
  "language_info": {
   "codemirror_mode": {
    "name": "ipython",
    "version": 3
   },
   "file_extension": ".py",
   "mimetype": "text/x-python",
   "name": "python",
   "nbconvert_exporter": "python",
   "pygments_lexer": "ipython3",
   "version": "3.10.10"
  },
  "papermill": {
   "default_parameters": {},
   "duration": 13.460347,
   "end_time": "2023-06-13T21:23:09.718522",
   "environment_variables": {},
   "exception": null,
   "input_path": "__notebook__.ipynb",
   "output_path": "__notebook__.ipynb",
   "parameters": {},
   "start_time": "2023-06-13T21:22:56.258175",
   "version": "2.4.0"
  }
 },
 "nbformat": 4,
 "nbformat_minor": 5
}
