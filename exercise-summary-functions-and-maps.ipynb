{
 "cells": [
  {
   "cell_type": "markdown",
   "id": "295563bf",
   "metadata": {
    "papermill": {
     "duration": 0.009482,
     "end_time": "2023-06-13T21:05:54.790596",
     "exception": false,
     "start_time": "2023-06-13T21:05:54.781114",
     "status": "completed"
    },
    "tags": []
   },
   "source": [
    "**This notebook is an exercise in the [Pandas](https://www.kaggle.com/learn/pandas) course.  You can reference the tutorial at [this link](https://www.kaggle.com/residentmario/summary-functions-and-maps).**\n",
    "\n",
    "---\n"
   ]
  },
  {
   "cell_type": "markdown",
   "id": "76e99bf5",
   "metadata": {
    "papermill": {
     "duration": 0.007664,
     "end_time": "2023-06-13T21:05:54.806856",
     "exception": false,
     "start_time": "2023-06-13T21:05:54.799192",
     "status": "completed"
    },
    "tags": []
   },
   "source": [
    "# Introduction\n",
    "\n",
    "Now you are ready to get a deeper understanding of your data.\n",
    "\n",
    "Run the following cell to load your data and some utility functions (including code to check your answers)."
   ]
  },
  {
   "cell_type": "code",
   "execution_count": 1,
   "id": "c37d6125",
   "metadata": {
    "execution": {
     "iopub.execute_input": "2023-06-13T21:05:54.825396Z",
     "iopub.status.busy": "2023-06-13T21:05:54.824579Z",
     "iopub.status.idle": "2023-06-13T21:06:04.010169Z",
     "shell.execute_reply": "2023-06-13T21:06:04.008600Z"
    },
    "papermill": {
     "duration": 9.198574,
     "end_time": "2023-06-13T21:06:04.013347",
     "exception": false,
     "start_time": "2023-06-13T21:05:54.814773",
     "status": "completed"
    },
    "tags": []
   },
   "outputs": [
    {
     "name": "stdout",
     "output_type": "stream",
     "text": [
      "Setup complete.\n"
     ]
    },
    {
     "data": {
      "text/html": [
       "<div>\n",
       "<style scoped>\n",
       "    .dataframe tbody tr th:only-of-type {\n",
       "        vertical-align: middle;\n",
       "    }\n",
       "\n",
       "    .dataframe tbody tr th {\n",
       "        vertical-align: top;\n",
       "    }\n",
       "\n",
       "    .dataframe thead th {\n",
       "        text-align: right;\n",
       "    }\n",
       "</style>\n",
       "<table border=\"1\" class=\"dataframe\">\n",
       "  <thead>\n",
       "    <tr style=\"text-align: right;\">\n",
       "      <th></th>\n",
       "      <th>country</th>\n",
       "      <th>description</th>\n",
       "      <th>designation</th>\n",
       "      <th>points</th>\n",
       "      <th>price</th>\n",
       "      <th>province</th>\n",
       "      <th>region_1</th>\n",
       "      <th>region_2</th>\n",
       "      <th>taster_name</th>\n",
       "      <th>taster_twitter_handle</th>\n",
       "      <th>title</th>\n",
       "      <th>variety</th>\n",
       "      <th>winery</th>\n",
       "    </tr>\n",
       "  </thead>\n",
       "  <tbody>\n",
       "    <tr>\n",
       "      <th>0</th>\n",
       "      <td>Italy</td>\n",
       "      <td>Aromas include tropical fruit, broom, brimston...</td>\n",
       "      <td>Vulkà Bianco</td>\n",
       "      <td>87</td>\n",
       "      <td>NaN</td>\n",
       "      <td>Sicily &amp; Sardinia</td>\n",
       "      <td>Etna</td>\n",
       "      <td>NaN</td>\n",
       "      <td>Kerin O’Keefe</td>\n",
       "      <td>@kerinokeefe</td>\n",
       "      <td>Nicosia 2013 Vulkà Bianco  (Etna)</td>\n",
       "      <td>White Blend</td>\n",
       "      <td>Nicosia</td>\n",
       "    </tr>\n",
       "    <tr>\n",
       "      <th>1</th>\n",
       "      <td>Portugal</td>\n",
       "      <td>This is ripe and fruity, a wine that is smooth...</td>\n",
       "      <td>Avidagos</td>\n",
       "      <td>87</td>\n",
       "      <td>15.0</td>\n",
       "      <td>Douro</td>\n",
       "      <td>NaN</td>\n",
       "      <td>NaN</td>\n",
       "      <td>Roger Voss</td>\n",
       "      <td>@vossroger</td>\n",
       "      <td>Quinta dos Avidagos 2011 Avidagos Red (Douro)</td>\n",
       "      <td>Portuguese Red</td>\n",
       "      <td>Quinta dos Avidagos</td>\n",
       "    </tr>\n",
       "    <tr>\n",
       "      <th>2</th>\n",
       "      <td>US</td>\n",
       "      <td>Tart and snappy, the flavors of lime flesh and...</td>\n",
       "      <td>NaN</td>\n",
       "      <td>87</td>\n",
       "      <td>14.0</td>\n",
       "      <td>Oregon</td>\n",
       "      <td>Willamette Valley</td>\n",
       "      <td>Willamette Valley</td>\n",
       "      <td>Paul Gregutt</td>\n",
       "      <td>@paulgwine</td>\n",
       "      <td>Rainstorm 2013 Pinot Gris (Willamette Valley)</td>\n",
       "      <td>Pinot Gris</td>\n",
       "      <td>Rainstorm</td>\n",
       "    </tr>\n",
       "    <tr>\n",
       "      <th>3</th>\n",
       "      <td>US</td>\n",
       "      <td>Pineapple rind, lemon pith and orange blossom ...</td>\n",
       "      <td>Reserve Late Harvest</td>\n",
       "      <td>87</td>\n",
       "      <td>13.0</td>\n",
       "      <td>Michigan</td>\n",
       "      <td>Lake Michigan Shore</td>\n",
       "      <td>NaN</td>\n",
       "      <td>Alexander Peartree</td>\n",
       "      <td>NaN</td>\n",
       "      <td>St. Julian 2013 Reserve Late Harvest Riesling ...</td>\n",
       "      <td>Riesling</td>\n",
       "      <td>St. Julian</td>\n",
       "    </tr>\n",
       "    <tr>\n",
       "      <th>4</th>\n",
       "      <td>US</td>\n",
       "      <td>Much like the regular bottling from 2012, this...</td>\n",
       "      <td>Vintner's Reserve Wild Child Block</td>\n",
       "      <td>87</td>\n",
       "      <td>65.0</td>\n",
       "      <td>Oregon</td>\n",
       "      <td>Willamette Valley</td>\n",
       "      <td>Willamette Valley</td>\n",
       "      <td>Paul Gregutt</td>\n",
       "      <td>@paulgwine</td>\n",
       "      <td>Sweet Cheeks 2012 Vintner's Reserve Wild Child...</td>\n",
       "      <td>Pinot Noir</td>\n",
       "      <td>Sweet Cheeks</td>\n",
       "    </tr>\n",
       "  </tbody>\n",
       "</table>\n",
       "</div>"
      ],
      "text/plain": [
       "    country                                        description  \\\n",
       "0     Italy  Aromas include tropical fruit, broom, brimston...   \n",
       "1  Portugal  This is ripe and fruity, a wine that is smooth...   \n",
       "2        US  Tart and snappy, the flavors of lime flesh and...   \n",
       "3        US  Pineapple rind, lemon pith and orange blossom ...   \n",
       "4        US  Much like the regular bottling from 2012, this...   \n",
       "\n",
       "                          designation  points  price           province  \\\n",
       "0                        Vulkà Bianco      87    NaN  Sicily & Sardinia   \n",
       "1                            Avidagos      87   15.0              Douro   \n",
       "2                                 NaN      87   14.0             Oregon   \n",
       "3                Reserve Late Harvest      87   13.0           Michigan   \n",
       "4  Vintner's Reserve Wild Child Block      87   65.0             Oregon   \n",
       "\n",
       "              region_1           region_2         taster_name  \\\n",
       "0                 Etna                NaN       Kerin O’Keefe   \n",
       "1                  NaN                NaN          Roger Voss   \n",
       "2    Willamette Valley  Willamette Valley        Paul Gregutt   \n",
       "3  Lake Michigan Shore                NaN  Alexander Peartree   \n",
       "4    Willamette Valley  Willamette Valley        Paul Gregutt   \n",
       "\n",
       "  taster_twitter_handle                                              title  \\\n",
       "0          @kerinokeefe                  Nicosia 2013 Vulkà Bianco  (Etna)   \n",
       "1            @vossroger      Quinta dos Avidagos 2011 Avidagos Red (Douro)   \n",
       "2           @paulgwine       Rainstorm 2013 Pinot Gris (Willamette Valley)   \n",
       "3                   NaN  St. Julian 2013 Reserve Late Harvest Riesling ...   \n",
       "4           @paulgwine   Sweet Cheeks 2012 Vintner's Reserve Wild Child...   \n",
       "\n",
       "          variety               winery  \n",
       "0     White Blend              Nicosia  \n",
       "1  Portuguese Red  Quinta dos Avidagos  \n",
       "2      Pinot Gris            Rainstorm  \n",
       "3        Riesling           St. Julian  \n",
       "4      Pinot Noir         Sweet Cheeks  "
      ]
     },
     "execution_count": 1,
     "metadata": {},
     "output_type": "execute_result"
    }
   ],
   "source": [
    "import pandas as pd\n",
    "pd.set_option(\"display.max_rows\", 5)\n",
    "reviews = pd.read_csv(\"../input/wine-reviews/winemag-data-130k-v2.csv\", index_col=0)\n",
    "\n",
    "from learntools.core import binder; binder.bind(globals())\n",
    "from learntools.pandas.summary_functions_and_maps import *\n",
    "print(\"Setup complete.\")\n",
    "\n",
    "reviews.head()"
   ]
  },
  {
   "cell_type": "markdown",
   "id": "b2f7f44c",
   "metadata": {
    "papermill": {
     "duration": 0.008364,
     "end_time": "2023-06-13T21:06:04.030647",
     "exception": false,
     "start_time": "2023-06-13T21:06:04.022283",
     "status": "completed"
    },
    "tags": []
   },
   "source": [
    "# Exercises"
   ]
  },
  {
   "cell_type": "markdown",
   "id": "b590de7b",
   "metadata": {
    "papermill": {
     "duration": 0.009105,
     "end_time": "2023-06-13T21:06:04.050198",
     "exception": false,
     "start_time": "2023-06-13T21:06:04.041093",
     "status": "completed"
    },
    "tags": []
   },
   "source": [
    "## 1.\n",
    "\n",
    "What is the median of the `points` column in the `reviews` DataFrame?"
   ]
  },
  {
   "cell_type": "code",
   "execution_count": 2,
   "id": "05d3f256",
   "metadata": {
    "execution": {
     "iopub.execute_input": "2023-06-13T21:06:04.070600Z",
     "iopub.status.busy": "2023-06-13T21:06:04.070182Z",
     "iopub.status.idle": "2023-06-13T21:06:04.083473Z",
     "shell.execute_reply": "2023-06-13T21:06:04.081565Z"
    },
    "papermill": {
     "duration": 0.026753,
     "end_time": "2023-06-13T21:06:04.086433",
     "exception": false,
     "start_time": "2023-06-13T21:06:04.059680",
     "status": "completed"
    },
    "tags": []
   },
   "outputs": [
    {
     "data": {
      "application/javascript": [
       "parent.postMessage({\"jupyterEvent\": \"custom.exercise_interaction\", \"data\": {\"outcomeType\": 1, \"valueTowardsCompletion\": 0.14285714285714285, \"interactionType\": 1, \"questionType\": 1, \"questionId\": \"1_MedianPoints\", \"learnToolsVersion\": \"0.3.4\", \"failureMessage\": \"\", \"exceptionClass\": \"\", \"trace\": \"\"}}, \"*\")"
      ],
      "text/plain": [
       "<IPython.core.display.Javascript object>"
      ]
     },
     "metadata": {},
     "output_type": "display_data"
    },
    {
     "data": {
      "text/markdown": [
       "<span style=\"color:#33cc33\">Correct</span>"
      ],
      "text/plain": [
       "Correct"
      ]
     },
     "metadata": {},
     "output_type": "display_data"
    }
   ],
   "source": [
    "median_points = reviews.points.median()\n",
    "\n",
    "# Check your answer\n",
    "q1.check()"
   ]
  },
  {
   "cell_type": "code",
   "execution_count": 3,
   "id": "31a5a6df",
   "metadata": {
    "execution": {
     "iopub.execute_input": "2023-06-13T21:06:04.108209Z",
     "iopub.status.busy": "2023-06-13T21:06:04.107408Z",
     "iopub.status.idle": "2023-06-13T21:06:04.114443Z",
     "shell.execute_reply": "2023-06-13T21:06:04.112431Z"
    },
    "papermill": {
     "duration": 0.021989,
     "end_time": "2023-06-13T21:06:04.117600",
     "exception": false,
     "start_time": "2023-06-13T21:06:04.095611",
     "status": "completed"
    },
    "tags": []
   },
   "outputs": [],
   "source": [
    "#q1.hint()\n",
    "#q1.solution()"
   ]
  },
  {
   "cell_type": "markdown",
   "id": "1c42107b",
   "metadata": {
    "papermill": {
     "duration": 0.010322,
     "end_time": "2023-06-13T21:06:04.137450",
     "exception": false,
     "start_time": "2023-06-13T21:06:04.127128",
     "status": "completed"
    },
    "tags": []
   },
   "source": [
    "## 2. \n",
    "What countries are represented in the dataset? (Your answer should not include any duplicates.)"
   ]
  },
  {
   "cell_type": "code",
   "execution_count": 4,
   "id": "bb678252",
   "metadata": {
    "execution": {
     "iopub.execute_input": "2023-06-13T21:06:04.159578Z",
     "iopub.status.busy": "2023-06-13T21:06:04.159089Z",
     "iopub.status.idle": "2023-06-13T21:06:04.184540Z",
     "shell.execute_reply": "2023-06-13T21:06:04.182782Z"
    },
    "papermill": {
     "duration": 0.040689,
     "end_time": "2023-06-13T21:06:04.188500",
     "exception": false,
     "start_time": "2023-06-13T21:06:04.147811",
     "status": "completed"
    },
    "tags": []
   },
   "outputs": [
    {
     "data": {
      "application/javascript": [
       "parent.postMessage({\"jupyterEvent\": \"custom.exercise_interaction\", \"data\": {\"outcomeType\": 1, \"valueTowardsCompletion\": 0.14285714285714285, \"interactionType\": 1, \"questionType\": 2, \"questionId\": \"2_UniqueCountries\", \"learnToolsVersion\": \"0.3.4\", \"failureMessage\": \"\", \"exceptionClass\": \"\", \"trace\": \"\"}}, \"*\")"
      ],
      "text/plain": [
       "<IPython.core.display.Javascript object>"
      ]
     },
     "metadata": {},
     "output_type": "display_data"
    },
    {
     "data": {
      "text/markdown": [
       "<span style=\"color:#33cc33\">Correct</span>"
      ],
      "text/plain": [
       "Correct"
      ]
     },
     "metadata": {},
     "output_type": "display_data"
    }
   ],
   "source": [
    "countries = reviews.country.unique()\n",
    "\n",
    "# Check your answer\n",
    "q2.check()"
   ]
  },
  {
   "cell_type": "code",
   "execution_count": 5,
   "id": "90c0739d",
   "metadata": {
    "execution": {
     "iopub.execute_input": "2023-06-13T21:06:04.212009Z",
     "iopub.status.busy": "2023-06-13T21:06:04.211526Z",
     "iopub.status.idle": "2023-06-13T21:06:04.218057Z",
     "shell.execute_reply": "2023-06-13T21:06:04.216643Z"
    },
    "papermill": {
     "duration": 0.022225,
     "end_time": "2023-06-13T21:06:04.221521",
     "exception": false,
     "start_time": "2023-06-13T21:06:04.199296",
     "status": "completed"
    },
    "tags": []
   },
   "outputs": [],
   "source": [
    "#q2.hint()\n",
    "#q2.solution()"
   ]
  },
  {
   "cell_type": "markdown",
   "id": "6c635d1b",
   "metadata": {
    "papermill": {
     "duration": 0.009837,
     "end_time": "2023-06-13T21:06:04.243243",
     "exception": false,
     "start_time": "2023-06-13T21:06:04.233406",
     "status": "completed"
    },
    "tags": []
   },
   "source": [
    "## 3.\n",
    "How often does each country appear in the dataset? Create a Series `reviews_per_country` mapping countries to the count of reviews of wines from that country."
   ]
  },
  {
   "cell_type": "code",
   "execution_count": 6,
   "id": "8bc06232",
   "metadata": {
    "execution": {
     "iopub.execute_input": "2023-06-13T21:06:04.266341Z",
     "iopub.status.busy": "2023-06-13T21:06:04.265892Z",
     "iopub.status.idle": "2023-06-13T21:06:04.298714Z",
     "shell.execute_reply": "2023-06-13T21:06:04.296859Z"
    },
    "papermill": {
     "duration": 0.048857,
     "end_time": "2023-06-13T21:06:04.302168",
     "exception": false,
     "start_time": "2023-06-13T21:06:04.253311",
     "status": "completed"
    },
    "tags": []
   },
   "outputs": [
    {
     "data": {
      "application/javascript": [
       "parent.postMessage({\"jupyterEvent\": \"custom.exercise_interaction\", \"data\": {\"outcomeType\": 1, \"valueTowardsCompletion\": 0.14285714285714285, \"interactionType\": 1, \"questionType\": 1, \"questionId\": \"3_ReviewsPerCountry\", \"learnToolsVersion\": \"0.3.4\", \"failureMessage\": \"\", \"exceptionClass\": \"\", \"trace\": \"\"}}, \"*\")"
      ],
      "text/plain": [
       "<IPython.core.display.Javascript object>"
      ]
     },
     "metadata": {},
     "output_type": "display_data"
    },
    {
     "data": {
      "text/markdown": [
       "<span style=\"color:#33cc33\">Correct</span>"
      ],
      "text/plain": [
       "Correct"
      ]
     },
     "metadata": {},
     "output_type": "display_data"
    }
   ],
   "source": [
    "reviews_per_country = reviews.country.value_counts()\n",
    "\n",
    "# Check your answer\n",
    "q3.check()"
   ]
  },
  {
   "cell_type": "code",
   "execution_count": 7,
   "id": "9f1e8076",
   "metadata": {
    "execution": {
     "iopub.execute_input": "2023-06-13T21:06:04.324673Z",
     "iopub.status.busy": "2023-06-13T21:06:04.324116Z",
     "iopub.status.idle": "2023-06-13T21:06:04.330508Z",
     "shell.execute_reply": "2023-06-13T21:06:04.328800Z"
    },
    "papermill": {
     "duration": 0.020706,
     "end_time": "2023-06-13T21:06:04.333374",
     "exception": false,
     "start_time": "2023-06-13T21:06:04.312668",
     "status": "completed"
    },
    "tags": []
   },
   "outputs": [],
   "source": [
    "#q3.hint()\n",
    "#q3.solution()"
   ]
  },
  {
   "cell_type": "markdown",
   "id": "62600a48",
   "metadata": {
    "papermill": {
     "duration": 0.010108,
     "end_time": "2023-06-13T21:06:04.353480",
     "exception": false,
     "start_time": "2023-06-13T21:06:04.343372",
     "status": "completed"
    },
    "tags": []
   },
   "source": [
    "## 4.\n",
    "Create variable `centered_price` containing a version of the `price` column with the mean price subtracted.\n",
    "\n",
    "(Note: this 'centering' transformation is a common preprocessing step before applying various machine learning algorithms.) "
   ]
  },
  {
   "cell_type": "code",
   "execution_count": 8,
   "id": "05824eac",
   "metadata": {
    "execution": {
     "iopub.execute_input": "2023-06-13T21:06:04.375972Z",
     "iopub.status.busy": "2023-06-13T21:06:04.375550Z",
     "iopub.status.idle": "2023-06-13T21:06:04.385977Z",
     "shell.execute_reply": "2023-06-13T21:06:04.385011Z"
    },
    "papermill": {
     "duration": 0.024755,
     "end_time": "2023-06-13T21:06:04.388563",
     "exception": false,
     "start_time": "2023-06-13T21:06:04.363808",
     "status": "completed"
    },
    "tags": []
   },
   "outputs": [
    {
     "data": {
      "application/javascript": [
       "parent.postMessage({\"jupyterEvent\": \"custom.exercise_interaction\", \"data\": {\"outcomeType\": 1, \"valueTowardsCompletion\": 0.14285714285714285, \"interactionType\": 1, \"questionType\": 1, \"questionId\": \"4_CenteredPrice\", \"learnToolsVersion\": \"0.3.4\", \"failureMessage\": \"\", \"exceptionClass\": \"\", \"trace\": \"\"}}, \"*\")"
      ],
      "text/plain": [
       "<IPython.core.display.Javascript object>"
      ]
     },
     "metadata": {},
     "output_type": "display_data"
    },
    {
     "data": {
      "text/markdown": [
       "<span style=\"color:#33cc33\">Correct</span>"
      ],
      "text/plain": [
       "Correct"
      ]
     },
     "metadata": {},
     "output_type": "display_data"
    }
   ],
   "source": [
    "centered_price = reviews.price - reviews.price.mean()\n",
    "\n",
    "# Check your answer\n",
    "q4.check()"
   ]
  },
  {
   "cell_type": "code",
   "execution_count": 9,
   "id": "e5475f18",
   "metadata": {
    "execution": {
     "iopub.execute_input": "2023-06-13T21:06:04.414115Z",
     "iopub.status.busy": "2023-06-13T21:06:04.413470Z",
     "iopub.status.idle": "2023-06-13T21:06:04.417600Z",
     "shell.execute_reply": "2023-06-13T21:06:04.416433Z"
    },
    "papermill": {
     "duration": 0.02134,
     "end_time": "2023-06-13T21:06:04.420568",
     "exception": false,
     "start_time": "2023-06-13T21:06:04.399228",
     "status": "completed"
    },
    "tags": []
   },
   "outputs": [],
   "source": [
    "#q4.hint()\n",
    "#q4.solution()"
   ]
  },
  {
   "cell_type": "markdown",
   "id": "38b9e5ce",
   "metadata": {
    "papermill": {
     "duration": 0.011268,
     "end_time": "2023-06-13T21:06:04.443820",
     "exception": false,
     "start_time": "2023-06-13T21:06:04.432552",
     "status": "completed"
    },
    "tags": []
   },
   "source": [
    "## 5.\n",
    "I'm an economical wine buyer. Which wine is the \"best bargain\"? Create a variable `bargain_wine` with the title of the wine with the highest points-to-price ratio in the dataset."
   ]
  },
  {
   "cell_type": "code",
   "execution_count": 10,
   "id": "9befb775",
   "metadata": {
    "execution": {
     "iopub.execute_input": "2023-06-13T21:06:04.469008Z",
     "iopub.status.busy": "2023-06-13T21:06:04.468243Z",
     "iopub.status.idle": "2023-06-13T21:06:04.484180Z",
     "shell.execute_reply": "2023-06-13T21:06:04.482930Z"
    },
    "papermill": {
     "duration": 0.032272,
     "end_time": "2023-06-13T21:06:04.487389",
     "exception": false,
     "start_time": "2023-06-13T21:06:04.455117",
     "status": "completed"
    },
    "tags": []
   },
   "outputs": [
    {
     "data": {
      "application/javascript": [
       "parent.postMessage({\"jupyterEvent\": \"custom.exercise_interaction\", \"data\": {\"outcomeType\": 1, \"valueTowardsCompletion\": 0.14285714285714285, \"interactionType\": 1, \"questionType\": 2, \"questionId\": \"5_BargainWine\", \"learnToolsVersion\": \"0.3.4\", \"failureMessage\": \"\", \"exceptionClass\": \"\", \"trace\": \"\"}}, \"*\")"
      ],
      "text/plain": [
       "<IPython.core.display.Javascript object>"
      ]
     },
     "metadata": {},
     "output_type": "display_data"
    },
    {
     "data": {
      "text/markdown": [
       "<span style=\"color:#33cc33\">Correct</span>"
      ],
      "text/plain": [
       "Correct"
      ]
     },
     "metadata": {},
     "output_type": "display_data"
    }
   ],
   "source": [
    "bargain_idx = (reviews.points / reviews.price).idxmax()\n",
    "bargain_wine = reviews.loc[bargain_idx, 'title']\n",
    "\n",
    "# Check your answer\n",
    "q5.check()"
   ]
  },
  {
   "cell_type": "code",
   "execution_count": 11,
   "id": "afbd7c86",
   "metadata": {
    "execution": {
     "iopub.execute_input": "2023-06-13T21:06:04.512253Z",
     "iopub.status.busy": "2023-06-13T21:06:04.511555Z",
     "iopub.status.idle": "2023-06-13T21:06:04.516832Z",
     "shell.execute_reply": "2023-06-13T21:06:04.515406Z"
    },
    "papermill": {
     "duration": 0.020924,
     "end_time": "2023-06-13T21:06:04.519326",
     "exception": false,
     "start_time": "2023-06-13T21:06:04.498402",
     "status": "completed"
    },
    "tags": []
   },
   "outputs": [],
   "source": [
    "#q5.hint()\n",
    "#q5.solution()"
   ]
  },
  {
   "cell_type": "markdown",
   "id": "8043b3e6",
   "metadata": {
    "papermill": {
     "duration": 0.012357,
     "end_time": "2023-06-13T21:06:04.542965",
     "exception": false,
     "start_time": "2023-06-13T21:06:04.530608",
     "status": "completed"
    },
    "tags": []
   },
   "source": [
    "## 6.\n",
    "There are only so many words you can use when describing a bottle of wine. Is a wine more likely to be \"tropical\" or \"fruity\"? Create a Series `descriptor_counts` counting how many times each of these two words appears in the `description` column in the dataset. (For simplicity, let's ignore the capitalized versions of these words.)"
   ]
  },
  {
   "cell_type": "code",
   "execution_count": 12,
   "id": "073b04b8",
   "metadata": {
    "execution": {
     "iopub.execute_input": "2023-06-13T21:06:04.566262Z",
     "iopub.status.busy": "2023-06-13T21:06:04.565446Z",
     "iopub.status.idle": "2023-06-13T21:06:04.736091Z",
     "shell.execute_reply": "2023-06-13T21:06:04.734998Z"
    },
    "papermill": {
     "duration": 0.185471,
     "end_time": "2023-06-13T21:06:04.738880",
     "exception": false,
     "start_time": "2023-06-13T21:06:04.553409",
     "status": "completed"
    },
    "tags": []
   },
   "outputs": [
    {
     "data": {
      "application/javascript": [
       "parent.postMessage({\"jupyterEvent\": \"custom.exercise_interaction\", \"data\": {\"outcomeType\": 1, \"valueTowardsCompletion\": 0.14285714285714285, \"interactionType\": 1, \"questionType\": 1, \"questionId\": \"6_DescriptorCounts\", \"learnToolsVersion\": \"0.3.4\", \"failureMessage\": \"\", \"exceptionClass\": \"\", \"trace\": \"\"}}, \"*\")"
      ],
      "text/plain": [
       "<IPython.core.display.Javascript object>"
      ]
     },
     "metadata": {},
     "output_type": "display_data"
    },
    {
     "data": {
      "text/markdown": [
       "<span style=\"color:#33cc33\">Correct</span>"
      ],
      "text/plain": [
       "Correct"
      ]
     },
     "metadata": {},
     "output_type": "display_data"
    }
   ],
   "source": [
    "n_trop = reviews.description.map(lambda desc: \"tropical\" in desc).sum()\n",
    "n_fruity = reviews.description.map(lambda desc: \"fruity\" in desc).sum()\n",
    "descriptor_counts = pd.Series([n_trop, n_fruity], index=['tropical', 'fruity'])\n",
    "\n",
    "# Check your answer\n",
    "q6.check()"
   ]
  },
  {
   "cell_type": "code",
   "execution_count": 13,
   "id": "6611d113",
   "metadata": {
    "execution": {
     "iopub.execute_input": "2023-06-13T21:06:04.764324Z",
     "iopub.status.busy": "2023-06-13T21:06:04.763868Z",
     "iopub.status.idle": "2023-06-13T21:06:04.769321Z",
     "shell.execute_reply": "2023-06-13T21:06:04.767691Z"
    },
    "papermill": {
     "duration": 0.021419,
     "end_time": "2023-06-13T21:06:04.772291",
     "exception": false,
     "start_time": "2023-06-13T21:06:04.750872",
     "status": "completed"
    },
    "tags": []
   },
   "outputs": [],
   "source": [
    "#q6.hint()\n",
    "#q6.solution()"
   ]
  },
  {
   "cell_type": "markdown",
   "id": "b61e02a4",
   "metadata": {
    "papermill": {
     "duration": 0.010079,
     "end_time": "2023-06-13T21:06:04.792862",
     "exception": false,
     "start_time": "2023-06-13T21:06:04.782783",
     "status": "completed"
    },
    "tags": []
   },
   "source": [
    "## 7.\n",
    "We'd like to host these wine reviews on our website, but a rating system ranging from 80 to 100 points is too hard to understand - we'd like to translate them into simple star ratings. A score of 95 or higher counts as 3 stars, a score of at least 85 but less than 95 is 2 stars. Any other score is 1 star.\n",
    "\n",
    "Also, the Canadian Vintners Association bought a lot of ads on the site, so any wines from Canada should automatically get 3 stars, regardless of points.\n",
    "\n",
    "Create a series `star_ratings` with the number of stars corresponding to each review in the dataset."
   ]
  },
  {
   "cell_type": "code",
   "execution_count": 14,
   "id": "f93978f0",
   "metadata": {
    "execution": {
     "iopub.execute_input": "2023-06-13T21:06:04.815829Z",
     "iopub.status.busy": "2023-06-13T21:06:04.815373Z",
     "iopub.status.idle": "2023-06-13T21:06:10.353725Z",
     "shell.execute_reply": "2023-06-13T21:06:10.352513Z"
    },
    "papermill": {
     "duration": 5.552715,
     "end_time": "2023-06-13T21:06:10.356195",
     "exception": false,
     "start_time": "2023-06-13T21:06:04.803480",
     "status": "completed"
    },
    "tags": []
   },
   "outputs": [
    {
     "data": {
      "application/javascript": [
       "parent.postMessage({\"jupyterEvent\": \"custom.exercise_interaction\", \"data\": {\"outcomeType\": 1, \"valueTowardsCompletion\": 0.14285714285714285, \"interactionType\": 1, \"questionType\": 1, \"questionId\": \"7_StarRatings\", \"learnToolsVersion\": \"0.3.4\", \"failureMessage\": \"\", \"exceptionClass\": \"\", \"trace\": \"\"}}, \"*\")"
      ],
      "text/plain": [
       "<IPython.core.display.Javascript object>"
      ]
     },
     "metadata": {},
     "output_type": "display_data"
    },
    {
     "data": {
      "text/markdown": [
       "<span style=\"color:#33cc33\">Correct</span>"
      ],
      "text/plain": [
       "Correct"
      ]
     },
     "metadata": {},
     "output_type": "display_data"
    }
   ],
   "source": [
    "def stars(row):\n",
    "    if row.country == 'Canada':\n",
    "        return 3\n",
    "    elif row.points >= 95:\n",
    "        return 3\n",
    "    elif row.points >= 85:\n",
    "        return 2\n",
    "    else:\n",
    "        return 1\n",
    "\n",
    "star_ratings = reviews.apply(stars, axis='columns')\n",
    "\n",
    "# Check your answer\n",
    "q7.check()"
   ]
  },
  {
   "cell_type": "code",
   "execution_count": 15,
   "id": "9dc87907",
   "metadata": {
    "execution": {
     "iopub.execute_input": "2023-06-13T21:06:10.379887Z",
     "iopub.status.busy": "2023-06-13T21:06:10.379486Z",
     "iopub.status.idle": "2023-06-13T21:06:10.383945Z",
     "shell.execute_reply": "2023-06-13T21:06:10.382986Z"
    },
    "papermill": {
     "duration": 0.019006,
     "end_time": "2023-06-13T21:06:10.386234",
     "exception": false,
     "start_time": "2023-06-13T21:06:10.367228",
     "status": "completed"
    },
    "tags": []
   },
   "outputs": [],
   "source": [
    "#q7.hint()\n",
    "#q7.solution()"
   ]
  },
  {
   "cell_type": "markdown",
   "id": "5590ae52",
   "metadata": {
    "papermill": {
     "duration": 0.011056,
     "end_time": "2023-06-13T21:06:10.409100",
     "exception": false,
     "start_time": "2023-06-13T21:06:10.398044",
     "status": "completed"
    },
    "tags": []
   },
   "source": [
    "# Keep going\n",
    "Continue to **[grouping and sorting](https://www.kaggle.com/residentmario/grouping-and-sorting)**."
   ]
  },
  {
   "cell_type": "markdown",
   "id": "18ecc22c",
   "metadata": {
    "papermill": {
     "duration": 0.011463,
     "end_time": "2023-06-13T21:06:10.431841",
     "exception": false,
     "start_time": "2023-06-13T21:06:10.420378",
     "status": "completed"
    },
    "tags": []
   },
   "source": [
    "---\n",
    "\n",
    "\n",
    "\n",
    "\n",
    "*Have questions or comments? Visit the [course discussion forum](https://www.kaggle.com/learn/pandas/discussion) to chat with other learners.*"
   ]
  }
 ],
 "metadata": {
  "kernelspec": {
   "display_name": "Python 3",
   "language": "python",
   "name": "python3"
  },
  "language_info": {
   "codemirror_mode": {
    "name": "ipython",
    "version": 3
   },
   "file_extension": ".py",
   "mimetype": "text/x-python",
   "name": "python",
   "nbconvert_exporter": "python",
   "pygments_lexer": "ipython3",
   "version": "3.10.10"
  },
  "papermill": {
   "default_parameters": {},
   "duration": 31.482525,
   "end_time": "2023-06-13T21:06:11.467097",
   "environment_variables": {},
   "exception": null,
   "input_path": "__notebook__.ipynb",
   "output_path": "__notebook__.ipynb",
   "parameters": {},
   "start_time": "2023-06-13T21:05:39.984572",
   "version": "2.4.0"
  }
 },
 "nbformat": 4,
 "nbformat_minor": 5
}
