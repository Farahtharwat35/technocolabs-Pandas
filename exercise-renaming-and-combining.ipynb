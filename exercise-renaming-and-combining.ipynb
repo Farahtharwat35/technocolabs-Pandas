{
 "cells": [
  {
   "cell_type": "markdown",
   "id": "4afcc874",
   "metadata": {
    "papermill": {
     "duration": 0.005283,
     "end_time": "2023-06-13T21:27:05.459591",
     "exception": false,
     "start_time": "2023-06-13T21:27:05.454308",
     "status": "completed"
    },
    "tags": []
   },
   "source": [
    "**This notebook is an exercise in the [Pandas](https://www.kaggle.com/learn/pandas) course.  You can reference the tutorial at [this link](https://www.kaggle.com/residentmario/renaming-and-combining).**\n",
    "\n",
    "---\n"
   ]
  },
  {
   "cell_type": "markdown",
   "id": "746af36f",
   "metadata": {
    "papermill": {
     "duration": 0.004435,
     "end_time": "2023-06-13T21:27:05.469060",
     "exception": false,
     "start_time": "2023-06-13T21:27:05.464625",
     "status": "completed"
    },
    "tags": []
   },
   "source": [
    "# Introduction\n",
    "\n",
    "Run the following cell to load your data and some utility functions."
   ]
  },
  {
   "cell_type": "code",
   "execution_count": 1,
   "id": "84d6a448",
   "metadata": {
    "execution": {
     "iopub.execute_input": "2023-06-13T21:27:05.480906Z",
     "iopub.status.busy": "2023-06-13T21:27:05.480041Z",
     "iopub.status.idle": "2023-06-13T21:27:09.464623Z",
     "shell.execute_reply": "2023-06-13T21:27:09.463398Z"
    },
    "papermill": {
     "duration": 3.993483,
     "end_time": "2023-06-13T21:27:09.467180",
     "exception": false,
     "start_time": "2023-06-13T21:27:05.473697",
     "status": "completed"
    },
    "tags": []
   },
   "outputs": [
    {
     "name": "stdout",
     "output_type": "stream",
     "text": [
      "Setup complete.\n"
     ]
    }
   ],
   "source": [
    "import pandas as pd\n",
    "\n",
    "reviews = pd.read_csv(\"../input/wine-reviews/winemag-data-130k-v2.csv\", index_col=0)\n",
    "\n",
    "from learntools.core import binder; binder.bind(globals())\n",
    "from learntools.pandas.renaming_and_combining import *\n",
    "print(\"Setup complete.\")"
   ]
  },
  {
   "cell_type": "markdown",
   "id": "a4703034",
   "metadata": {
    "papermill": {
     "duration": 0.004671,
     "end_time": "2023-06-13T21:27:09.476852",
     "exception": false,
     "start_time": "2023-06-13T21:27:09.472181",
     "status": "completed"
    },
    "tags": []
   },
   "source": [
    "# Exercises\n",
    "\n",
    "View the first several lines of your data by running the cell below:"
   ]
  },
  {
   "cell_type": "code",
   "execution_count": 2,
   "id": "1f1717a7",
   "metadata": {
    "execution": {
     "iopub.execute_input": "2023-06-13T21:27:09.488604Z",
     "iopub.status.busy": "2023-06-13T21:27:09.488031Z",
     "iopub.status.idle": "2023-06-13T21:27:09.519515Z",
     "shell.execute_reply": "2023-06-13T21:27:09.518414Z"
    },
    "papermill": {
     "duration": 0.040514,
     "end_time": "2023-06-13T21:27:09.522127",
     "exception": false,
     "start_time": "2023-06-13T21:27:09.481613",
     "status": "completed"
    },
    "tags": []
   },
   "outputs": [
    {
     "data": {
      "text/html": [
       "<div>\n",
       "<style scoped>\n",
       "    .dataframe tbody tr th:only-of-type {\n",
       "        vertical-align: middle;\n",
       "    }\n",
       "\n",
       "    .dataframe tbody tr th {\n",
       "        vertical-align: top;\n",
       "    }\n",
       "\n",
       "    .dataframe thead th {\n",
       "        text-align: right;\n",
       "    }\n",
       "</style>\n",
       "<table border=\"1\" class=\"dataframe\">\n",
       "  <thead>\n",
       "    <tr style=\"text-align: right;\">\n",
       "      <th></th>\n",
       "      <th>country</th>\n",
       "      <th>description</th>\n",
       "      <th>designation</th>\n",
       "      <th>points</th>\n",
       "      <th>price</th>\n",
       "      <th>province</th>\n",
       "      <th>region_1</th>\n",
       "      <th>region_2</th>\n",
       "      <th>taster_name</th>\n",
       "      <th>taster_twitter_handle</th>\n",
       "      <th>title</th>\n",
       "      <th>variety</th>\n",
       "      <th>winery</th>\n",
       "    </tr>\n",
       "  </thead>\n",
       "  <tbody>\n",
       "    <tr>\n",
       "      <th>0</th>\n",
       "      <td>Italy</td>\n",
       "      <td>Aromas include tropical fruit, broom, brimston...</td>\n",
       "      <td>Vulkà Bianco</td>\n",
       "      <td>87</td>\n",
       "      <td>NaN</td>\n",
       "      <td>Sicily &amp; Sardinia</td>\n",
       "      <td>Etna</td>\n",
       "      <td>NaN</td>\n",
       "      <td>Kerin O’Keefe</td>\n",
       "      <td>@kerinokeefe</td>\n",
       "      <td>Nicosia 2013 Vulkà Bianco  (Etna)</td>\n",
       "      <td>White Blend</td>\n",
       "      <td>Nicosia</td>\n",
       "    </tr>\n",
       "    <tr>\n",
       "      <th>1</th>\n",
       "      <td>Portugal</td>\n",
       "      <td>This is ripe and fruity, a wine that is smooth...</td>\n",
       "      <td>Avidagos</td>\n",
       "      <td>87</td>\n",
       "      <td>15.0</td>\n",
       "      <td>Douro</td>\n",
       "      <td>NaN</td>\n",
       "      <td>NaN</td>\n",
       "      <td>Roger Voss</td>\n",
       "      <td>@vossroger</td>\n",
       "      <td>Quinta dos Avidagos 2011 Avidagos Red (Douro)</td>\n",
       "      <td>Portuguese Red</td>\n",
       "      <td>Quinta dos Avidagos</td>\n",
       "    </tr>\n",
       "    <tr>\n",
       "      <th>2</th>\n",
       "      <td>US</td>\n",
       "      <td>Tart and snappy, the flavors of lime flesh and...</td>\n",
       "      <td>NaN</td>\n",
       "      <td>87</td>\n",
       "      <td>14.0</td>\n",
       "      <td>Oregon</td>\n",
       "      <td>Willamette Valley</td>\n",
       "      <td>Willamette Valley</td>\n",
       "      <td>Paul Gregutt</td>\n",
       "      <td>@paulgwine</td>\n",
       "      <td>Rainstorm 2013 Pinot Gris (Willamette Valley)</td>\n",
       "      <td>Pinot Gris</td>\n",
       "      <td>Rainstorm</td>\n",
       "    </tr>\n",
       "    <tr>\n",
       "      <th>3</th>\n",
       "      <td>US</td>\n",
       "      <td>Pineapple rind, lemon pith and orange blossom ...</td>\n",
       "      <td>Reserve Late Harvest</td>\n",
       "      <td>87</td>\n",
       "      <td>13.0</td>\n",
       "      <td>Michigan</td>\n",
       "      <td>Lake Michigan Shore</td>\n",
       "      <td>NaN</td>\n",
       "      <td>Alexander Peartree</td>\n",
       "      <td>NaN</td>\n",
       "      <td>St. Julian 2013 Reserve Late Harvest Riesling ...</td>\n",
       "      <td>Riesling</td>\n",
       "      <td>St. Julian</td>\n",
       "    </tr>\n",
       "    <tr>\n",
       "      <th>4</th>\n",
       "      <td>US</td>\n",
       "      <td>Much like the regular bottling from 2012, this...</td>\n",
       "      <td>Vintner's Reserve Wild Child Block</td>\n",
       "      <td>87</td>\n",
       "      <td>65.0</td>\n",
       "      <td>Oregon</td>\n",
       "      <td>Willamette Valley</td>\n",
       "      <td>Willamette Valley</td>\n",
       "      <td>Paul Gregutt</td>\n",
       "      <td>@paulgwine</td>\n",
       "      <td>Sweet Cheeks 2012 Vintner's Reserve Wild Child...</td>\n",
       "      <td>Pinot Noir</td>\n",
       "      <td>Sweet Cheeks</td>\n",
       "    </tr>\n",
       "  </tbody>\n",
       "</table>\n",
       "</div>"
      ],
      "text/plain": [
       "    country                                        description  \\\n",
       "0     Italy  Aromas include tropical fruit, broom, brimston...   \n",
       "1  Portugal  This is ripe and fruity, a wine that is smooth...   \n",
       "2        US  Tart and snappy, the flavors of lime flesh and...   \n",
       "3        US  Pineapple rind, lemon pith and orange blossom ...   \n",
       "4        US  Much like the regular bottling from 2012, this...   \n",
       "\n",
       "                          designation  points  price           province  \\\n",
       "0                        Vulkà Bianco      87    NaN  Sicily & Sardinia   \n",
       "1                            Avidagos      87   15.0              Douro   \n",
       "2                                 NaN      87   14.0             Oregon   \n",
       "3                Reserve Late Harvest      87   13.0           Michigan   \n",
       "4  Vintner's Reserve Wild Child Block      87   65.0             Oregon   \n",
       "\n",
       "              region_1           region_2         taster_name  \\\n",
       "0                 Etna                NaN       Kerin O’Keefe   \n",
       "1                  NaN                NaN          Roger Voss   \n",
       "2    Willamette Valley  Willamette Valley        Paul Gregutt   \n",
       "3  Lake Michigan Shore                NaN  Alexander Peartree   \n",
       "4    Willamette Valley  Willamette Valley        Paul Gregutt   \n",
       "\n",
       "  taster_twitter_handle                                              title  \\\n",
       "0          @kerinokeefe                  Nicosia 2013 Vulkà Bianco  (Etna)   \n",
       "1            @vossroger      Quinta dos Avidagos 2011 Avidagos Red (Douro)   \n",
       "2           @paulgwine       Rainstorm 2013 Pinot Gris (Willamette Valley)   \n",
       "3                   NaN  St. Julian 2013 Reserve Late Harvest Riesling ...   \n",
       "4           @paulgwine   Sweet Cheeks 2012 Vintner's Reserve Wild Child...   \n",
       "\n",
       "          variety               winery  \n",
       "0     White Blend              Nicosia  \n",
       "1  Portuguese Red  Quinta dos Avidagos  \n",
       "2      Pinot Gris            Rainstorm  \n",
       "3        Riesling           St. Julian  \n",
       "4      Pinot Noir         Sweet Cheeks  "
      ]
     },
     "execution_count": 2,
     "metadata": {},
     "output_type": "execute_result"
    }
   ],
   "source": [
    "reviews.head()"
   ]
  },
  {
   "cell_type": "markdown",
   "id": "32d6a8b7",
   "metadata": {
    "papermill": {
     "duration": 0.005046,
     "end_time": "2023-06-13T21:27:09.534026",
     "exception": false,
     "start_time": "2023-06-13T21:27:09.528980",
     "status": "completed"
    },
    "tags": []
   },
   "source": [
    "## 1.\n",
    "`region_1` and `region_2` are pretty uninformative names for locale columns in the dataset. Create a copy of `reviews` with these columns renamed to `region` and `locale`, respectively."
   ]
  },
  {
   "cell_type": "code",
   "execution_count": 3,
   "id": "689b6c93",
   "metadata": {
    "execution": {
     "iopub.execute_input": "2023-06-13T21:27:09.546222Z",
     "iopub.status.busy": "2023-06-13T21:27:09.545822Z",
     "iopub.status.idle": "2023-06-13T21:27:09.568900Z",
     "shell.execute_reply": "2023-06-13T21:27:09.568126Z"
    },
    "papermill": {
     "duration": 0.031542,
     "end_time": "2023-06-13T21:27:09.570841",
     "exception": false,
     "start_time": "2023-06-13T21:27:09.539299",
     "status": "completed"
    },
    "tags": []
   },
   "outputs": [
    {
     "data": {
      "application/javascript": [
       "parent.postMessage({\"jupyterEvent\": \"custom.exercise_interaction\", \"data\": {\"outcomeType\": 1, \"valueTowardsCompletion\": 0.25, \"interactionType\": 1, \"questionType\": 1, \"questionId\": \"1_RenameCols\", \"learnToolsVersion\": \"0.3.4\", \"failureMessage\": \"\", \"exceptionClass\": \"\", \"trace\": \"\"}}, \"*\")"
      ],
      "text/plain": [
       "<IPython.core.display.Javascript object>"
      ]
     },
     "metadata": {},
     "output_type": "display_data"
    },
    {
     "data": {
      "text/markdown": [
       "<span style=\"color:#33cc33\">Correct</span>"
      ],
      "text/plain": [
       "Correct"
      ]
     },
     "metadata": {},
     "output_type": "display_data"
    }
   ],
   "source": [
    "# Your code here\n",
    "renamed = reviews.rename(columns=dict(region_1='region', region_2='locale'))\n",
    "\n",
    "# Check your answer\n",
    "q1.check()"
   ]
  },
  {
   "cell_type": "code",
   "execution_count": 4,
   "id": "5b690735",
   "metadata": {
    "execution": {
     "iopub.execute_input": "2023-06-13T21:27:09.584492Z",
     "iopub.status.busy": "2023-06-13T21:27:09.582706Z",
     "iopub.status.idle": "2023-06-13T21:27:09.587707Z",
     "shell.execute_reply": "2023-06-13T21:27:09.587030Z"
    },
    "papermill": {
     "duration": 0.013338,
     "end_time": "2023-06-13T21:27:09.589643",
     "exception": false,
     "start_time": "2023-06-13T21:27:09.576305",
     "status": "completed"
    },
    "tags": []
   },
   "outputs": [],
   "source": [
    "#q1.hint()\n",
    "#q1.solution()"
   ]
  },
  {
   "cell_type": "markdown",
   "id": "2428ee51",
   "metadata": {
    "papermill": {
     "duration": 0.005181,
     "end_time": "2023-06-13T21:27:09.600327",
     "exception": false,
     "start_time": "2023-06-13T21:27:09.595146",
     "status": "completed"
    },
    "tags": []
   },
   "source": [
    "## 2.\n",
    "Set the index name in the dataset to `wines`."
   ]
  },
  {
   "cell_type": "code",
   "execution_count": 5,
   "id": "0b87851a",
   "metadata": {
    "execution": {
     "iopub.execute_input": "2023-06-13T21:27:09.613064Z",
     "iopub.status.busy": "2023-06-13T21:27:09.612198Z",
     "iopub.status.idle": "2023-06-13T21:27:09.630559Z",
     "shell.execute_reply": "2023-06-13T21:27:09.629833Z"
    },
    "papermill": {
     "duration": 0.026825,
     "end_time": "2023-06-13T21:27:09.632470",
     "exception": false,
     "start_time": "2023-06-13T21:27:09.605645",
     "status": "completed"
    },
    "tags": []
   },
   "outputs": [
    {
     "data": {
      "application/javascript": [
       "parent.postMessage({\"jupyterEvent\": \"custom.exercise_interaction\", \"data\": {\"outcomeType\": 1, \"valueTowardsCompletion\": 0.25, \"interactionType\": 1, \"questionType\": 1, \"questionId\": \"2_RenameIndex\", \"learnToolsVersion\": \"0.3.4\", \"failureMessage\": \"\", \"exceptionClass\": \"\", \"trace\": \"\"}}, \"*\")"
      ],
      "text/plain": [
       "<IPython.core.display.Javascript object>"
      ]
     },
     "metadata": {},
     "output_type": "display_data"
    },
    {
     "data": {
      "text/markdown": [
       "<span style=\"color:#33cc33\">Correct</span>"
      ],
      "text/plain": [
       "Correct"
      ]
     },
     "metadata": {},
     "output_type": "display_data"
    }
   ],
   "source": [
    "reindexed = reviews.rename_axis('wines', axis='rows')\n",
    "\n",
    "# Check your answer\n",
    "q2.check()"
   ]
  },
  {
   "cell_type": "code",
   "execution_count": 6,
   "id": "cef42be8",
   "metadata": {
    "execution": {
     "iopub.execute_input": "2023-06-13T21:27:09.645644Z",
     "iopub.status.busy": "2023-06-13T21:27:09.645268Z",
     "iopub.status.idle": "2023-06-13T21:27:09.649567Z",
     "shell.execute_reply": "2023-06-13T21:27:09.648499Z"
    },
    "papermill": {
     "duration": 0.013582,
     "end_time": "2023-06-13T21:27:09.651772",
     "exception": false,
     "start_time": "2023-06-13T21:27:09.638190",
     "status": "completed"
    },
    "tags": []
   },
   "outputs": [],
   "source": [
    "#q2.hint()\n",
    "#q2.solution()"
   ]
  },
  {
   "cell_type": "markdown",
   "id": "d4023dae",
   "metadata": {
    "papermill": {
     "duration": 0.005492,
     "end_time": "2023-06-13T21:27:09.663398",
     "exception": false,
     "start_time": "2023-06-13T21:27:09.657906",
     "status": "completed"
    },
    "tags": []
   },
   "source": [
    "## 3.\n",
    "The [Things on Reddit](https://www.kaggle.com/residentmario/things-on-reddit/data) dataset includes product links from a selection of top-ranked forums (\"subreddits\") on reddit.com. Run the cell below to load a dataframe of products mentioned on the */r/gaming* subreddit and another dataframe for products mentioned on the *r//movies* subreddit."
   ]
  },
  {
   "cell_type": "code",
   "execution_count": 7,
   "id": "2a636c08",
   "metadata": {
    "execution": {
     "iopub.execute_input": "2023-06-13T21:27:09.676889Z",
     "iopub.status.busy": "2023-06-13T21:27:09.676414Z",
     "iopub.status.idle": "2023-06-13T21:27:09.689854Z",
     "shell.execute_reply": "2023-06-13T21:27:09.688854Z"
    },
    "papermill": {
     "duration": 0.022898,
     "end_time": "2023-06-13T21:27:09.691896",
     "exception": false,
     "start_time": "2023-06-13T21:27:09.668998",
     "status": "completed"
    },
    "tags": []
   },
   "outputs": [],
   "source": [
    "gaming_products = pd.read_csv(\"../input/things-on-reddit/top-things/top-things/reddits/g/gaming.csv\")\n",
    "gaming_products['subreddit'] = \"r/gaming\"\n",
    "movie_products = pd.read_csv(\"../input/things-on-reddit/top-things/top-things/reddits/m/movies.csv\")\n",
    "movie_products['subreddit'] = \"r/movies\""
   ]
  },
  {
   "cell_type": "markdown",
   "id": "acc8dc26",
   "metadata": {
    "papermill": {
     "duration": 0.005674,
     "end_time": "2023-06-13T21:27:09.703648",
     "exception": false,
     "start_time": "2023-06-13T21:27:09.697974",
     "status": "completed"
    },
    "tags": []
   },
   "source": [
    "Create a `DataFrame` of products mentioned on *either* subreddit."
   ]
  },
  {
   "cell_type": "code",
   "execution_count": 8,
   "id": "8422757f",
   "metadata": {
    "execution": {
     "iopub.execute_input": "2023-06-13T21:27:09.717602Z",
     "iopub.status.busy": "2023-06-13T21:27:09.716884Z",
     "iopub.status.idle": "2023-06-13T21:27:09.727458Z",
     "shell.execute_reply": "2023-06-13T21:27:09.726341Z"
    },
    "papermill": {
     "duration": 0.020279,
     "end_time": "2023-06-13T21:27:09.729721",
     "exception": false,
     "start_time": "2023-06-13T21:27:09.709442",
     "status": "completed"
    },
    "tags": []
   },
   "outputs": [
    {
     "data": {
      "application/javascript": [
       "parent.postMessage({\"jupyterEvent\": \"custom.exercise_interaction\", \"data\": {\"outcomeType\": 1, \"valueTowardsCompletion\": 0.25, \"interactionType\": 1, \"questionType\": 2, \"questionId\": \"3_ConcatReddit\", \"learnToolsVersion\": \"0.3.4\", \"failureMessage\": \"\", \"exceptionClass\": \"\", \"trace\": \"\"}}, \"*\")"
      ],
      "text/plain": [
       "<IPython.core.display.Javascript object>"
      ]
     },
     "metadata": {},
     "output_type": "display_data"
    },
    {
     "data": {
      "text/markdown": [
       "<span style=\"color:#33cc33\">Correct</span>"
      ],
      "text/plain": [
       "Correct"
      ]
     },
     "metadata": {},
     "output_type": "display_data"
    }
   ],
   "source": [
    "combined_products = pd.concat([gaming_products, movie_products])\n",
    "\n",
    "# Check your answer\n",
    "q3.check()"
   ]
  },
  {
   "cell_type": "code",
   "execution_count": 9,
   "id": "675cb8bc",
   "metadata": {
    "execution": {
     "iopub.execute_input": "2023-06-13T21:27:09.743957Z",
     "iopub.status.busy": "2023-06-13T21:27:09.742990Z",
     "iopub.status.idle": "2023-06-13T21:27:09.747008Z",
     "shell.execute_reply": "2023-06-13T21:27:09.746351Z"
    },
    "papermill": {
     "duration": 0.012777,
     "end_time": "2023-06-13T21:27:09.748778",
     "exception": false,
     "start_time": "2023-06-13T21:27:09.736001",
     "status": "completed"
    },
    "tags": []
   },
   "outputs": [],
   "source": [
    "#q3.hint()\n",
    "#q3.solution()"
   ]
  },
  {
   "cell_type": "markdown",
   "id": "5141c1d7",
   "metadata": {
    "papermill": {
     "duration": 0.005529,
     "end_time": "2023-06-13T21:27:09.760186",
     "exception": false,
     "start_time": "2023-06-13T21:27:09.754657",
     "status": "completed"
    },
    "tags": []
   },
   "source": [
    "## 4.\n",
    "The [Powerlifting Database](https://www.kaggle.com/open-powerlifting/powerlifting-database) dataset on Kaggle includes one CSV table for powerlifting meets and a separate one for powerlifting competitors. Run the cell below to load these datasets into dataframes:"
   ]
  },
  {
   "cell_type": "code",
   "execution_count": 10,
   "id": "8fe38af6",
   "metadata": {
    "execution": {
     "iopub.execute_input": "2023-06-13T21:27:09.773979Z",
     "iopub.status.busy": "2023-06-13T21:27:09.773072Z",
     "iopub.status.idle": "2023-06-13T21:27:10.516572Z",
     "shell.execute_reply": "2023-06-13T21:27:10.515376Z"
    },
    "papermill": {
     "duration": 0.753243,
     "end_time": "2023-06-13T21:27:10.519088",
     "exception": false,
     "start_time": "2023-06-13T21:27:09.765845",
     "status": "completed"
    },
    "tags": []
   },
   "outputs": [],
   "source": [
    "powerlifting_meets = pd.read_csv(\"../input/powerlifting-database/meets.csv\")\n",
    "powerlifting_competitors = pd.read_csv(\"../input/powerlifting-database/openpowerlifting.csv\")"
   ]
  },
  {
   "cell_type": "markdown",
   "id": "26e012f9",
   "metadata": {
    "papermill": {
     "duration": 0.006314,
     "end_time": "2023-06-13T21:27:10.532390",
     "exception": false,
     "start_time": "2023-06-13T21:27:10.526076",
     "status": "completed"
    },
    "tags": []
   },
   "source": [
    "Both tables include references to a `MeetID`, a unique key for each meet (competition) included in the database. Using this, generate a dataset combining the two tables into one."
   ]
  },
  {
   "cell_type": "code",
   "execution_count": 11,
   "id": "fd05c437",
   "metadata": {
    "execution": {
     "iopub.execute_input": "2023-06-13T21:27:10.545360Z",
     "iopub.status.busy": "2023-06-13T21:27:10.544975Z",
     "iopub.status.idle": "2023-06-13T21:27:11.641979Z",
     "shell.execute_reply": "2023-06-13T21:27:11.641097Z"
    },
    "papermill": {
     "duration": 1.106011,
     "end_time": "2023-06-13T21:27:11.644096",
     "exception": false,
     "start_time": "2023-06-13T21:27:10.538085",
     "status": "completed"
    },
    "tags": []
   },
   "outputs": [
    {
     "data": {
      "application/javascript": [
       "parent.postMessage({\"jupyterEvent\": \"custom.exercise_interaction\", \"data\": {\"outcomeType\": 1, \"valueTowardsCompletion\": 0.25, \"interactionType\": 1, \"questionType\": 2, \"questionId\": \"4_JoinLifting\", \"learnToolsVersion\": \"0.3.4\", \"failureMessage\": \"\", \"exceptionClass\": \"\", \"trace\": \"\"}}, \"*\")"
      ],
      "text/plain": [
       "<IPython.core.display.Javascript object>"
      ]
     },
     "metadata": {},
     "output_type": "display_data"
    },
    {
     "data": {
      "text/markdown": [
       "<span style=\"color:#33cc33\">Correct</span>"
      ],
      "text/plain": [
       "Correct"
      ]
     },
     "metadata": {},
     "output_type": "display_data"
    }
   ],
   "source": [
    "powerlifting_combined = powerlifting_meets.set_index(\"MeetID\").join(powerlifting_competitors.set_index(\"MeetID\"))\n",
    "\n",
    "# Check your answer\n",
    "q4.check()"
   ]
  },
  {
   "cell_type": "code",
   "execution_count": 12,
   "id": "195b8aef",
   "metadata": {
    "execution": {
     "iopub.execute_input": "2023-06-13T21:27:11.658152Z",
     "iopub.status.busy": "2023-06-13T21:27:11.657804Z",
     "iopub.status.idle": "2023-06-13T21:27:11.663034Z",
     "shell.execute_reply": "2023-06-13T21:27:11.662235Z"
    },
    "papermill": {
     "duration": 0.014628,
     "end_time": "2023-06-13T21:27:11.664957",
     "exception": false,
     "start_time": "2023-06-13T21:27:11.650329",
     "status": "completed"
    },
    "tags": []
   },
   "outputs": [],
   "source": [
    "#q4.hint()\n",
    "#q4.solution()"
   ]
  },
  {
   "cell_type": "markdown",
   "id": "0d211233",
   "metadata": {
    "papermill": {
     "duration": 0.005792,
     "end_time": "2023-06-13T21:27:11.676778",
     "exception": false,
     "start_time": "2023-06-13T21:27:11.670986",
     "status": "completed"
    },
    "tags": []
   },
   "source": [
    "# Congratulations!\n",
    "\n",
    "You've finished the Pandas micro-course.  Many data scientists feel efficiency with Pandas is the most useful and practical skill they have, because it allows you to progress quickly in any project you have.\n",
    "\n",
    "If you'd like to apply your new skills to examining geospatial data, you're encouraged to check out our **[Geospatial Analysis](https://www.kaggle.com/learn/geospatial-analysis)** micro-course.\n",
    "\n",
    "You can also take advantage of your Pandas skills by entering a **[Kaggle Competition](https://www.kaggle.com/competitions)** or by answering a question you find interesting using **[Kaggle Datasets](https://www.kaggle.com/datasets)**."
   ]
  },
  {
   "cell_type": "markdown",
   "id": "c877175e",
   "metadata": {
    "papermill": {
     "duration": 0.005844,
     "end_time": "2023-06-13T21:27:11.688676",
     "exception": false,
     "start_time": "2023-06-13T21:27:11.682832",
     "status": "completed"
    },
    "tags": []
   },
   "source": [
    "---\n",
    "\n",
    "\n",
    "\n",
    "\n",
    "*Have questions or comments? Visit the [course discussion forum](https://www.kaggle.com/learn/pandas/discussion) to chat with other learners.*"
   ]
  }
 ],
 "metadata": {
  "kernelspec": {
   "display_name": "Python 3",
   "language": "python",
   "name": "python3"
  },
  "language_info": {
   "codemirror_mode": {
    "name": "ipython",
    "version": 3
   },
   "file_extension": ".py",
   "mimetype": "text/x-python",
   "name": "python",
   "nbconvert_exporter": "python",
   "pygments_lexer": "ipython3",
   "version": "3.10.10"
  },
  "papermill": {
   "default_parameters": {},
   "duration": 16.662471,
   "end_time": "2023-06-13T21:27:12.616203",
   "environment_variables": {},
   "exception": null,
   "input_path": "__notebook__.ipynb",
   "output_path": "__notebook__.ipynb",
   "parameters": {},
   "start_time": "2023-06-13T21:26:55.953732",
   "version": "2.4.0"
  }
 },
 "nbformat": 4,
 "nbformat_minor": 5
}
